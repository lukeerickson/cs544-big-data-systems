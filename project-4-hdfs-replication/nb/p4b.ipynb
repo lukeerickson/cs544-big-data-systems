{
 "cells": [
  {
   "cell_type": "code",
   "execution_count": 15,
   "id": "0fc2141d-17c9-458f-a7e3-fca0fe0c930f",
   "metadata": {},
   "outputs": [],
   "source": [
    "import requests\n",
    "import pyarrow as pa\n",
    "import pyarrow.fs\n",
    "import io"
   ]
  },
  {
   "cell_type": "code",
   "execution_count": 16,
   "id": "13517e51-5167-422e-b16f-bdd67ac53835",
   "metadata": {},
   "outputs": [
    {
     "name": "stdout",
     "output_type": "stream",
     "text": [
      "Configured Capacity: 25821052928 (24.05 GB)\n",
      "Present Capacity: 10209435971 (9.51 GB)\n",
      "DFS Remaining: 9939046400 (9.26 GB)\n",
      "DFS Used: 270389571 (257.86 MB)\n",
      "DFS Used%: 2.65%\n",
      "Replicated Blocks:\n",
      "\tUnder replicated blocks: 167\n",
      "\tBlocks with corrupt replicas: 0\n",
      "\tMissing blocks: 78\n",
      "\tMissing blocks (with replication factor 1): 78\n",
      "\tLow redundancy blocks with highest priority to recover: 167\n",
      "\tPending deletion blocks: 0\n",
      "Erasure Coded Block Groups: \n",
      "\tLow redundancy block groups: 0\n",
      "\tBlock groups with corrupt internal blocks: 0\n",
      "\tMissing block groups: 0\n",
      "\tLow redundancy blocks with highest priority to recover: 0\n",
      "\tPending deletion blocks: 0\n",
      "\n",
      "-------------------------------------------------\n",
      "Live datanodes (1):\n",
      "\n",
      "Name: 172.18.0.5:9866 (project-4-lukee4-dn-2.project-4-lukee4_default)\n",
      "Hostname: 3c093826594b\n",
      "Decommission Status : Normal\n",
      "Configured Capacity: 25821052928 (24.05 GB)\n",
      "DFS Used: 270389571 (257.86 MB)\n",
      "Non DFS Used: 15594839741 (14.52 GB)\n",
      "DFS Remaining: 9939046400 (9.26 GB)\n",
      "DFS Used%: 1.05%\n",
      "DFS Remaining%: 38.49%\n",
      "Configured Cache Capacity: 0 (0 B)\n",
      "Cache Used: 0 (0 B)\n",
      "Cache Remaining: 0 (0 B)\n",
      "Cache Used%: 100.00%\n",
      "Cache Remaining%: 0.00%\n",
      "Xceivers: 0\n",
      "Last contact: Tue Mar 19 00:35:43 GMT 2024\n",
      "Last Block Report: Tue Mar 19 00:33:10 GMT 2024\n",
      "Num of Blocks: 256\n",
      "\n",
      "\n",
      "Dead datanodes (1):\n",
      "\n",
      "Name: 172.18.0.3:9866 (172.18.0.3)\n",
      "Hostname: 9be8f6de71f9\n",
      "Decommission Status : Normal\n",
      "Configured Capacity: 25821052928 (24.05 GB)\n",
      "DFS Used: 258595641 (246.62 MB)\n",
      "Non DFS Used: 15606629575 (14.53 GB)\n",
      "DFS Remaining: 9939050496 (9.26 GB)\n",
      "DFS Used%: 1.00%\n",
      "DFS Remaining%: 38.49%\n",
      "Configured Cache Capacity: 0 (0 B)\n",
      "Cache Used: 0 (0 B)\n",
      "Cache Remaining: 0 (0 B)\n",
      "Cache Used%: 100.00%\n",
      "Cache Remaining%: 0.00%\n",
      "Xceivers: 0\n",
      "Last contact: Tue Mar 19 00:35:19 GMT 2024\n",
      "Last Block Report: Tue Mar 19 00:33:10 GMT 2024\n",
      "Num of Blocks: 0\n",
      "\n",
      "\n"
     ]
    }
   ],
   "source": [
    "#q8\n",
    "!hdfs dfsadmin -fs hdfs://boss:9000 -report"
   ]
  },
  {
   "cell_type": "code",
   "execution_count": 17,
   "id": "732d6e76-01f9-492c-a8a3-a385f41450a8",
   "metadata": {},
   "outputs": [
    {
     "data": {
      "text/plain": [
       "{'lost': 78, '3c093826594b': 89}"
      ]
     },
     "execution_count": 17,
     "metadata": {},
     "output_type": "execute_result"
    }
   ],
   "source": [
    "#q9\n",
    "r1 = requests.get(\"http://boss:9870/webhdfs/v1/single.csv?op=OPEN&offset=0&noredirect=true\")\n",
    "if(r1.status_code == 403):\n",
    "    s1 = 'lost'\n",
    "else:\n",
    "    j1 = r1.json()['Location']\n",
    "    s1 = j1[7:19]\n",
    "\n",
    "r2 = requests.get(\"http://boss:9870/webhdfs/v1/single.csv?op=OPEN&offset=1048576&noredirect=true\")\n",
    "if(r2.status_code == 403):\n",
    "    s2 = 'lost'\n",
    "else:\n",
    "    j2 = r2.json()['Location']\n",
    "    s2 = j2[7:19]\n",
    "\n",
    "count1 = 0\n",
    "count2 = 0\n",
    "\n",
    "for x in range(0, 174944099, 1048576):\n",
    "    r = requests.get(\"http://boss:9870/webhdfs/v1/single.csv?op=OPEN&offset=\" + str(x) + \"&noredirect=true\")\n",
    "    if(r.status_code == 403):\n",
    "        if(s1 == 'lost'):\n",
    "            count1 += 1\n",
    "        if(s2 == 'lost'):\n",
    "            count2 += 1\n",
    "    else:\n",
    "        j = r.json()['Location']\n",
    "        if(s1 in j):\n",
    "            count1 += 1\n",
    "        if(s2 in j):\n",
    "            count2 += 1\n",
    "\n",
    "Dict = {s1: count1, s2: count2}\n",
    "Dict\n"
   ]
  },
  {
   "cell_type": "code",
   "execution_count": 18,
   "id": "3449a761-0163-4180-949b-ce243ee744be",
   "metadata": {},
   "outputs": [],
   "source": [
    "hdfs = pa.fs.HadoopFileSystem(\"boss\", 9000)"
   ]
  },
  {
   "cell_type": "code",
   "execution_count": 19,
   "id": "b21a191f-3081-4bf5-9877-d54582db5b3a",
   "metadata": {},
   "outputs": [
    {
     "data": {
      "text/plain": [
       "[1048576,\n",
       " 2097152,\n",
       " 3145728,\n",
       " 5242880,\n",
       " 6291456,\n",
       " 9437184,\n",
       " 11534336,\n",
       " 13631488,\n",
       " 14680064,\n",
       " 15728640,\n",
       " 18874368,\n",
       " 20971520,\n",
       " 27262976,\n",
       " 28311552,\n",
       " 30408704,\n",
       " 33554432,\n",
       " 34603008,\n",
       " 35651584,\n",
       " 36700160,\n",
       " 40894464,\n",
       " 41943040,\n",
       " 44040192,\n",
       " 45088768,\n",
       " 47185920,\n",
       " 48234496,\n",
       " 53477376,\n",
       " 54525952,\n",
       " 57671680,\n",
       " 60817408,\n",
       " 61865984,\n",
       " 65011712,\n",
       " 68157440,\n",
       " 70254592,\n",
       " 73400320,\n",
       " 75497472,\n",
       " 77594624,\n",
       " 78643200,\n",
       " 80740352,\n",
       " 82837504,\n",
       " 83886080,\n",
       " 85983232,\n",
       " 87031808,\n",
       " 88080384,\n",
       " 90177536,\n",
       " 92274688,\n",
       " 93323264,\n",
       " 95420416,\n",
       " 97517568,\n",
       " 98566144,\n",
       " 99614720,\n",
       " 100663296,\n",
       " 102760448,\n",
       " 104857600,\n",
       " 105906176,\n",
       " 106954752,\n",
       " 109051904,\n",
       " 112197632,\n",
       " 113246208,\n",
       " 114294784,\n",
       " 115343360,\n",
       " 116391936,\n",
       " 117440512,\n",
       " 118489088,\n",
       " 124780544,\n",
       " 126877696,\n",
       " 132120576,\n",
       " 134217728,\n",
       " 135266304,\n",
       " 141557760,\n",
       " 142606336,\n",
       " 143654912,\n",
       " 144703488,\n",
       " 146800640,\n",
       " 150994944,\n",
       " 152043520,\n",
       " 154140672,\n",
       " 155189248,\n",
       " 156237824,\n",
       " 157286400,\n",
       " 158334976,\n",
       " 159383552,\n",
       " 160432128,\n",
       " 161480704,\n",
       " 162529280,\n",
       " 164626432,\n",
       " 165675008,\n",
       " 167772160,\n",
       " 170917888,\n",
       " 173015040]"
      ]
     },
     "execution_count": 19,
     "metadata": {},
     "output_type": "execute_result"
    }
   ],
   "source": [
    "healthyBlocks = []\n",
    "for x in range(0, 174944099, 1048576):\n",
    "    r = requests.get(\"http://boss:9870/webhdfs/v1/single.csv?op=OPEN&offset=\" + str(x) + \"&noredirect=true\")\n",
    "    if(r.status_code == 200):\n",
    "        healthyBlocks.append(x)\n",
    "healthyBlocks"
   ]
  },
  {
   "cell_type": "code",
   "execution_count": 23,
   "id": "6be7bcb8-c431-4403-9e76-34792836001c",
   "metadata": {},
   "outputs": [],
   "source": [
    "#f = hdfs.open_input_file(\"/single.csv\")\n",
    "#f.read_at(1048576, 2)"
   ]
  },
  {
   "cell_type": "code",
   "execution_count": 21,
   "id": "9bbb9e28-44c2-465c-96f3-61e171a70b26",
   "metadata": {},
   "outputs": [],
   "source": [
    "#q10"
   ]
  },
  {
   "cell_type": "code",
   "execution_count": null,
   "id": "819af908-a641-4629-8a1e-bd9b76d8416c",
   "metadata": {},
   "outputs": [],
   "source": []
  }
 ],
 "metadata": {
  "kernelspec": {
   "display_name": "Python 3 (ipykernel)",
   "language": "python",
   "name": "python3"
  },
  "language_info": {
   "codemirror_mode": {
    "name": "ipython",
    "version": 3
   },
   "file_extension": ".py",
   "mimetype": "text/x-python",
   "name": "python",
   "nbconvert_exporter": "python",
   "pygments_lexer": "ipython3",
   "version": "3.10.12"
  }
 },
 "nbformat": 4,
 "nbformat_minor": 5
}
