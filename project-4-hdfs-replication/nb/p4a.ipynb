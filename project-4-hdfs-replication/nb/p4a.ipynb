{
 "cells": [
  {
   "cell_type": "code",
   "execution_count": 1,
   "id": "a0872de0-ec9f-481c-b56f-a691c1889039",
   "metadata": {},
   "outputs": [],
   "source": [
    "import requests\n",
    "import pyarrow as pa\n",
    "import pyarrow.fs\n",
    "import io"
   ]
  },
  {
   "cell_type": "code",
   "execution_count": 2,
   "id": "812ba640-d67b-4813-935f-42685a1501ec",
   "metadata": {},
   "outputs": [
    {
     "name": "stdout",
     "output_type": "stream",
     "text": [
      "Configured Capacity: 51642105856 (48.10 GB)\n",
      "Present Capacity: 21291343872 (19.83 GB)\n",
      "DFS Remaining: 21291294720 (19.83 GB)\n",
      "DFS Used: 49152 (48 KB)\n",
      "DFS Used%: 0.00%\n",
      "Replicated Blocks:\n",
      "\tUnder replicated blocks: 0\n",
      "\tBlocks with corrupt replicas: 0\n",
      "\tMissing blocks: 0\n",
      "\tMissing blocks (with replication factor 1): 0\n",
      "\tLow redundancy blocks with highest priority to recover: 0\n",
      "\tPending deletion blocks: 0\n",
      "Erasure Coded Block Groups: \n",
      "\tLow redundancy block groups: 0\n",
      "\tBlock groups with corrupt internal blocks: 0\n",
      "\tMissing block groups: 0\n",
      "\tLow redundancy blocks with highest priority to recover: 0\n",
      "\tPending deletion blocks: 0\n",
      "\n",
      "-------------------------------------------------\n",
      "Live datanodes (2):\n",
      "\n",
      "Name: 172.18.0.3:9866 (project-4-lukee4-dn-1.project-4-lukee4_default)\n",
      "Hostname: 9be8f6de71f9\n",
      "Decommission Status : Normal\n",
      "Configured Capacity: 25821052928 (24.05 GB)\n",
      "DFS Used: 24576 (24 KB)\n",
      "Non DFS Used: 15158603776 (14.12 GB)\n",
      "DFS Remaining: 10645647360 (9.91 GB)\n",
      "DFS Used%: 0.00%\n",
      "DFS Remaining%: 41.23%\n",
      "Configured Cache Capacity: 0 (0 B)\n",
      "Cache Used: 0 (0 B)\n",
      "Cache Remaining: 0 (0 B)\n",
      "Cache Used%: 100.00%\n",
      "Cache Remaining%: 0.00%\n",
      "Xceivers: 0\n",
      "Last contact: Tue Mar 19 00:33:33 GMT 2024\n",
      "Last Block Report: Tue Mar 19 00:33:10 GMT 2024\n",
      "Num of Blocks: 0\n",
      "\n",
      "\n",
      "Name: 172.18.0.5:9866 (project-4-lukee4-dn-2.project-4-lukee4_default)\n",
      "Hostname: 3c093826594b\n",
      "Decommission Status : Normal\n",
      "Configured Capacity: 25821052928 (24.05 GB)\n",
      "DFS Used: 24576 (24 KB)\n",
      "Non DFS Used: 15158603776 (14.12 GB)\n",
      "DFS Remaining: 10645647360 (9.91 GB)\n",
      "DFS Used%: 0.00%\n",
      "DFS Remaining%: 41.23%\n",
      "Configured Cache Capacity: 0 (0 B)\n",
      "Cache Used: 0 (0 B)\n",
      "Cache Remaining: 0 (0 B)\n",
      "Cache Used%: 100.00%\n",
      "Cache Remaining%: 0.00%\n",
      "Xceivers: 0\n",
      "Last contact: Tue Mar 19 00:33:33 GMT 2024\n",
      "Last Block Report: Tue Mar 19 00:33:10 GMT 2024\n",
      "Num of Blocks: 0\n",
      "\n",
      "\n"
     ]
    }
   ],
   "source": [
    "#q1\n",
    "!hdfs dfsadmin -fs hdfs://boss:9000 -report"
   ]
  },
  {
   "cell_type": "code",
   "execution_count": 3,
   "id": "1865f31d-18d9-4cb6-9d06-eb10837e5d9b",
   "metadata": {},
   "outputs": [
    {
     "name": "stdout",
     "output_type": "stream",
     "text": [
      "--2024-03-19 00:33:35--  https://pages.cs.wisc.edu/~harter/cs544/data/hdma-wi-2021.csv\n",
      "Resolving pages.cs.wisc.edu (pages.cs.wisc.edu)... 128.105.7.9\n",
      "Connecting to pages.cs.wisc.edu (pages.cs.wisc.edu)|128.105.7.9|:443... connected.\n",
      "HTTP request sent, awaiting response... 200 OK\n",
      "Length: 174944099 (167M) [text/csv]\n",
      "Saving to: ‘hdma-wi-2021.csv.11’\n",
      "\n",
      "hdma-wi-2021.csv.11 100%[===================>] 166.84M   148MB/s    in 1.1s    \n",
      "\n",
      "2024-03-19 00:33:36 (148 MB/s) - ‘hdma-wi-2021.csv.11’ saved [174944099/174944099]\n",
      "\n"
     ]
    }
   ],
   "source": [
    "!wget https://pages.cs.wisc.edu/~harter/cs544/data/hdma-wi-2021.csv"
   ]
  },
  {
   "cell_type": "code",
   "execution_count": 4,
   "id": "3a4ae145-1112-4f85-9c67-d83790c73fbe",
   "metadata": {},
   "outputs": [],
   "source": [
    "!hdfs dfs -rm -f hdfs://boss:9000/single.csv\n",
    "!hdfs dfs -rm -f hdfs://boss:9000/double.csv"
   ]
  },
  {
   "cell_type": "code",
   "execution_count": 5,
   "id": "34b8015c-16df-4fc4-b50d-68bc61168733",
   "metadata": {},
   "outputs": [],
   "source": [
    "!hdfs dfs -D dfs.replication=1 -Ddfs.blocksize=1048576 -cp hdma-wi-2021.csv hdfs://boss:9000/single.csv\n",
    "!hdfs dfs -D dfs.replication=2 -Ddfs.blocksize=1048576 -cp hdma-wi-2021.csv hdfs://boss:9000/double.csv"
   ]
  },
  {
   "cell_type": "code",
   "execution_count": 6,
   "id": "06317a2e-303e-446e-8837-e63aeecc5c91",
   "metadata": {},
   "outputs": [
    {
     "name": "stdout",
     "output_type": "stream",
     "text": [
      "166.8 M  333.7 M  hdfs://boss:9000/double.csv\n",
      "166.8 M  166.8 M  hdfs://boss:9000/single.csv\n"
     ]
    }
   ],
   "source": [
    "#q2\n",
    "!hdfs dfs -du -h hdfs://boss:9000/"
   ]
  },
  {
   "cell_type": "code",
   "execution_count": 7,
   "id": "30005822-3a95-4299-85ce-df5f4bc16875",
   "metadata": {},
   "outputs": [
    {
     "name": "stdout",
     "output_type": "stream",
     "text": [
      "{\"FileStatus\":{\"accessTime\":1710808423763,\"blockSize\":1048576,\"childrenNum\":0,\"fileId\":16386,\"group\":\"supergroup\",\"length\":174944099,\"modificationTime\":1710808428369,\"owner\":\"root\",\"pathSuffix\":\"\",\"permission\":\"644\",\"replication\":1,\"storagePolicy\":0,\"type\":\"FILE\"}}"
     ]
    }
   ],
   "source": [
    "#q3\n",
    "!curl \"http://boss:9870/webhdfs/v1/single.csv?op=GETFILESTATUS\""
   ]
  },
  {
   "cell_type": "code",
   "execution_count": 8,
   "id": "6d4a41a5-57c3-4725-968e-a17e243159d1",
   "metadata": {},
   "outputs": [
    {
     "data": {
      "text/plain": [
       "'http://9be8f6de71f9:9864/webhdfs/v1/single.csv?op=OPEN&namenoderpcaddress=boss:9000&offset=0'"
      ]
     },
     "execution_count": 8,
     "metadata": {},
     "output_type": "execute_result"
    }
   ],
   "source": [
    "#q4\n",
    "#! curl \"http://boss:9870/webhdfs/v1/single.csv?op=OPEN&offset=0&noredirect=true\"\n",
    "r = requests.get(\"http://boss:9870/webhdfs/v1/single.csv?op=OPEN&offset=0&noredirect=true\")\n",
    "r.json()['Location']"
   ]
  },
  {
   "cell_type": "code",
   "execution_count": 9,
   "id": "05b64f87-3f1d-45fd-963f-38648e3ab90a",
   "metadata": {},
   "outputs": [
    {
     "data": {
      "text/plain": [
       "{'9be8f6de71f9': 78, '3c093826594b': 89}"
      ]
     },
     "execution_count": 9,
     "metadata": {},
     "output_type": "execute_result"
    }
   ],
   "source": [
    "#q5\n",
    "# might run into problem if first 2 blocks use same container id\n",
    "r1 = requests.get(\"http://boss:9870/webhdfs/v1/single.csv?op=OPEN&offset=0&noredirect=true\")\n",
    "j1 = r1.json()['Location']\n",
    "s1 = j1[7:19]\n",
    "\n",
    "r2 = requests.get(\"http://boss:9870/webhdfs/v1/single.csv?op=OPEN&offset=1048576&noredirect=true\")\n",
    "j2 = r2.json()['Location']\n",
    "s2 = j2[7:19]\n",
    "\n",
    "count1 = 0\n",
    "count2 = 0\n",
    "\n",
    "for x in range(0, 174944099, 1048576):\n",
    "    r = requests.get(\"http://boss:9870/webhdfs/v1/single.csv?op=OPEN&offset=\" + str(x) + \"&noredirect=true\")\n",
    "    j = r.json()['Location']\n",
    "    if(s1 in j):\n",
    "        count1 += 1\n",
    "    if(s2 in j):\n",
    "        count2 += 1\n",
    "\n",
    "Dict = {s1: count1, s2: count2}\n",
    "Dict"
   ]
  },
  {
   "cell_type": "code",
   "execution_count": 10,
   "id": "fe9bde20-401b-43b2-b7b6-3ddc85115c7c",
   "metadata": {},
   "outputs": [
    {
     "name": "stderr",
     "output_type": "stream",
     "text": [
      "2024-03-19 00:34:05,462 WARN util.NativeCodeLoader: Unable to load native-hadoop library for your platform... using builtin-java classes where applicable\n"
     ]
    }
   ],
   "source": [
    "hdfs = pa.fs.HadoopFileSystem(\"boss\", 9000)"
   ]
  },
  {
   "cell_type": "code",
   "execution_count": 11,
   "id": "71feda60-2051-4bb2-a641-61ab7627f5fd",
   "metadata": {},
   "outputs": [
    {
     "data": {
      "text/plain": [
       "b'activity_y'"
      ]
     },
     "execution_count": 11,
     "metadata": {},
     "output_type": "execute_result"
    }
   ],
   "source": [
    "#q6\n",
    "f = hdfs.open_input_file(\"/single.csv\")\n",
    "f.read_at(10, 0)"
   ]
  },
  {
   "cell_type": "code",
   "execution_count": 12,
   "id": "7aff86f0-81fb-47ad-a928-67bb07a23665",
   "metadata": {},
   "outputs": [
    {
     "data": {
      "text/plain": [
       "444874"
      ]
     },
     "execution_count": 12,
     "metadata": {},
     "output_type": "execute_result"
    }
   ],
   "source": [
    "#q7\n",
    "with hdfs.open_input_file(\"/single.csv\") as f:\n",
    "    reader = io.TextIOWrapper(io.BufferedReader(f))\n",
    "    count = 0\n",
    "    for i, line in enumerate(reader):\n",
    "        if(\"Single Family\" in line):\n",
    "            count += 1\n",
    "\n",
    "count"
   ]
  }
 ],
 "metadata": {
  "kernelspec": {
   "display_name": "Python 3 (ipykernel)",
   "language": "python",
   "name": "python3"
  },
  "language_info": {
   "codemirror_mode": {
    "name": "ipython",
    "version": 3
   },
   "file_extension": ".py",
   "mimetype": "text/x-python",
   "name": "python",
   "nbconvert_exporter": "python",
   "pygments_lexer": "ipython3",
   "version": "3.10.12"
  }
 },
 "nbformat": 4,
 "nbformat_minor": 5
}
