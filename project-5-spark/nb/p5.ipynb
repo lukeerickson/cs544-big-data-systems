{
 "cells": [
  {
   "cell_type": "code",
   "execution_count": 1,
   "id": "e952119c-1103-4c3a-9fdb-1bf569e2189d",
   "metadata": {},
   "outputs": [
    {
     "name": "stdout",
     "output_type": "stream",
     "text": [
      "Configured Capacity: 25821052928 (24.05 GB)\n",
      "Present Capacity: 7914276941 (7.37 GB)\n",
      "DFS Remaining: 7734190080 (7.20 GB)\n",
      "DFS Used: 180086861 (171.74 MB)\n",
      "DFS Used%: 2.28%\n",
      "Replicated Blocks:\n",
      "\tUnder replicated blocks: 0\n",
      "\tBlocks with corrupt replicas: 0\n",
      "\tMissing blocks: 0\n",
      "\tMissing blocks (with replication factor 1): 0\n",
      "\tLow redundancy blocks with highest priority to recover: 0\n",
      "\tPending deletion blocks: 0\n",
      "Erasure Coded Block Groups: \n",
      "\tLow redundancy block groups: 0\n",
      "\tBlock groups with corrupt internal blocks: 0\n",
      "\tMissing block groups: 0\n",
      "\tLow redundancy blocks with highest priority to recover: 0\n",
      "\tPending deletion blocks: 0\n",
      "\n",
      "-------------------------------------------------\n",
      "Live datanodes (1):\n",
      "\n",
      "Name: 172.19.0.2:9866 (project-5-lukee5-dn-1.project-5-lukee5_default)\n",
      "Hostname: c7ec944d6b1f\n",
      "Decommission Status : Normal\n",
      "Configured Capacity: 25821052928 (24.05 GB)\n",
      "DFS Used: 180086861 (171.74 MB)\n",
      "Non DFS Used: 17889998771 (16.66 GB)\n",
      "DFS Remaining: 7734190080 (7.20 GB)\n",
      "DFS Used%: 0.70%\n",
      "DFS Remaining%: 29.95%\n",
      "Configured Cache Capacity: 0 (0 B)\n",
      "Cache Used: 0 (0 B)\n",
      "Cache Remaining: 0 (0 B)\n",
      "Cache Used%: 100.00%\n",
      "Cache Remaining%: 0.00%\n",
      "Xceivers: 0\n",
      "Last contact: Fri Apr 05 23:20:20 GMT 2024\n",
      "Last Block Report: Fri Apr 05 23:19:38 GMT 2024\n",
      "Num of Blocks: 22\n",
      "\n",
      "\n"
     ]
    }
   ],
   "source": [
    "from pyspark.sql import SparkSession\n",
    "from pyspark.sql.functions import col\n",
    "\n",
    "!hdfs dfs -D dfs.replication=1 -cp -f data/*.csv hdfs://nn:9000/\n",
    "!hdfs dfsadmin -fs hdfs://nn:9000/ -report"
   ]
  },
  {
   "cell_type": "code",
   "execution_count": 2,
   "id": "bb91ee2e-e9f0-40da-9ba6-c72cd2b45686",
   "metadata": {},
   "outputs": [
    {
     "name": "stderr",
     "output_type": "stream",
     "text": [
      "Setting default log level to \"WARN\".\n",
      "To adjust logging level use sc.setLogLevel(newLevel). For SparkR, use setLogLevel(newLevel).\n",
      "24/04/05 23:05:29 WARN NativeCodeLoader: Unable to load native-hadoop library for your platform... using builtin-java classes where applicable\n"
     ]
    }
   ],
   "source": [
    "spark = (SparkSession.builder.appName(\"cs544\")\n",
    "         .master(\"spark://boss:7077\")\n",
    "         .config(\"spark.executor.memory\", \"512M\")\n",
    "         .config(\"spark.sql.warehouse.dir\", \"hdfs://nn:9000/user/hive/warehouse\")\n",
    "         .enableHiveSupport()\n",
    "         .getOrCreate())"
   ]
  },
  {
   "cell_type": "code",
   "execution_count": 3,
   "id": "52ffee6c-1203-4b1b-939e-3733e92a3bac",
   "metadata": {},
   "outputs": [
    {
     "name": "stderr",
     "output_type": "stream",
     "text": [
      "                                                                                \r"
     ]
    },
    {
     "data": {
      "text/plain": [
       "[Row(respondent_name='First National Bank', arid_2017='110004', lei_2018='5493003EW6T31TGECO83', lei_2019='5493003EW6T31TGECO83', lei_2020='5493003EW6T31TGECO83'),\n",
       " Row(respondent_name='First Mid Bank & Trust, National Association', arid_2017='110045', lei_2018='549300XOTES5TCS8T794', lei_2019='549300XOTES5TCS8T794', lei_2020='549300XOTES5TCS8T794'),\n",
       " Row(respondent_name='First Hope Bank, A National Banking Association', arid_2017='110118', lei_2018='5493003XLOX5FDT9R120', lei_2019='5493003XLOX5FDT9R120', lei_2020='5493003XLOX5FDT9R120')]"
      ]
     },
     "execution_count": 3,
     "metadata": {},
     "output_type": "execute_result"
    }
   ],
   "source": [
    "banks_df = (spark.read.format(\"csv\")\n",
    "      .option(\"header\", True)\n",
    "      .option(\"inferSchema\", True)\n",
    "      .load(\"hdfs://nn:9000/arid2017_to_lei_xref_csv.csv\"))\n",
    "banks_rdd = banks_df.rdd\n",
    "rows = banks_rdd.take(3)\n",
    "# consider using code to extract header name from rows\n",
    "rows"
   ]
  },
  {
   "cell_type": "code",
   "execution_count": 4,
   "id": "282737be-7f2a-4090-9f27-c293b0c2b989",
   "metadata": {},
   "outputs": [
    {
     "name": "stderr",
     "output_type": "stream",
     "text": [
      "                                                                                \r"
     ]
    },
    {
     "data": {
      "text/plain": [
       "106"
      ]
     },
     "execution_count": 4,
     "metadata": {},
     "output_type": "execute_result"
    }
   ],
   "source": [
    "#q1\n",
    "the_national = lambda row: \"The\" in row[\"respondent_name\"] and \"National\" in row[\"respondent_name\"]\n",
    "num_banks = banks_rdd.filter(the_national).count()\n",
    "num_banks"
   ]
  },
  {
   "cell_type": "code",
   "execution_count": 5,
   "id": "7ff03e9e-a09b-4c3d-9699-cd2154e4dbd5",
   "metadata": {},
   "outputs": [
    {
     "name": "stderr",
     "output_type": "stream",
     "text": [
      "                                                                                \r"
     ]
    },
    {
     "data": {
      "text/plain": [
       "106"
      ]
     },
     "execution_count": 5,
     "metadata": {},
     "output_type": "execute_result"
    }
   ],
   "source": [
    "#q2\n",
    "num_banks2 = banks_df.filter(\"respondent_name LIKE '%The%' AND respondent_name LIKE '%National%'\").count()\n",
    "num_banks2"
   ]
  },
  {
   "cell_type": "code",
   "execution_count": 6,
   "id": "a151be4f-4678-45fb-bbde-3fd3736df7c0",
   "metadata": {},
   "outputs": [
    {
     "name": "stderr",
     "output_type": "stream",
     "text": [
      "24/04/05 23:06:14 WARN HiveConf: HiveConf of name hive.stats.jdbc.timeout does not exist\n",
      "24/04/05 23:06:14 WARN HiveConf: HiveConf of name hive.stats.retries.wait does not exist\n",
      "24/04/05 23:06:18 WARN ObjectStore: Version information not found in metastore. hive.metastore.schema.verification is not enabled so recording the schema version 2.3.0\n",
      "24/04/05 23:06:18 WARN ObjectStore: setMetaStoreSchemaVersion called but recording version is disabled: version = 2.3.0, comment = Set by MetaStore UNKNOWN@172.28.0.5\n",
      "24/04/05 23:06:20 WARN ObjectStore: Failed to get database global_temp, returning NoSuchObjectException\n",
      "24/04/05 23:06:24 WARN SessionState: METASTORE_FILTER_HOOK will be ignored, since hive.security.authorization.manager is set to instance of HiveAuthorizerFactory.\n",
      "24/04/05 23:06:24 WARN HiveConf: HiveConf of name hive.internal.ss.authz.settings.applied.marker does not exist\n",
      "24/04/05 23:06:24 WARN HiveConf: HiveConf of name hive.stats.jdbc.timeout does not exist\n",
      "24/04/05 23:06:24 WARN HiveConf: HiveConf of name hive.stats.retries.wait does not exist\n"
     ]
    }
   ],
   "source": [
    "banks_df.write.saveAsTable(\"banks\", mode=\"overwrite\")"
   ]
  },
  {
   "cell_type": "code",
   "execution_count": 7,
   "id": "11926331-24eb-48e4-8f50-cf839b1f5a0e",
   "metadata": {},
   "outputs": [
    {
     "name": "stderr",
     "output_type": "stream",
     "text": [
      "                                                                                \r"
     ]
    },
    {
     "data": {
      "text/plain": [
       "106"
      ]
     },
     "execution_count": 7,
     "metadata": {},
     "output_type": "execute_result"
    }
   ],
   "source": [
    "#q3\n",
    "spark.sql(\"SELECT COUNT(*) AS num_banks FROM banks WHERE respondent_name LIKE '%The%' AND respondent_name LIKE '%National%'\").collect()[0]['num_banks']"
   ]
  },
  {
   "cell_type": "code",
   "execution_count": 8,
   "id": "ca8e0395-b191-4fe8-b356-9c2f897d5311",
   "metadata": {},
   "outputs": [
    {
     "name": "stderr",
     "output_type": "stream",
     "text": [
      "24/04/05 23:06:39 WARN SparkStringUtils: Truncated the string representation of a plan since it was too large. This behavior can be adjusted by setting 'spark.sql.debug.maxToStringFields'.\n",
      "                                                                                \r"
     ]
    }
   ],
   "source": [
    "loans_df = (spark.read.format(\"csv\")\n",
    "      .option(\"header\", True)\n",
    "      .option(\"inferSchema\", True)\n",
    "      .load(\"hdfs://nn:9000/hdma-wi-2021.csv\"))\n",
    "loans_df.write.bucketBy(8, \"county_code\").saveAsTable(\"loans\", mode=\"overwrite\")\n",
    "#!hdfs dfs -ls hdfs://nn:9000/user/hive/warehouse/loans"
   ]
  },
  {
   "cell_type": "code",
   "execution_count": 9,
   "id": "1563c8a1-4dad-4ba5-8dd0-a0b0120f454c",
   "metadata": {},
   "outputs": [],
   "source": [
    "views_to_create = [\n",
    "    \"ethnicity\", \"race\", \"sex\", \"states\", \"counties\", \"tracts\", \"action_taken\",\n",
    "    \"denial_reason\", \"loan_type\", \"loan_purpose\", \"preapproval\", \"property_type\"]\n",
    "\n",
    "for view_name in views_to_create:\n",
    "    view_df = spark.read.csv(f\"hdfs://nn:9000/{view_name}.csv\", header=True, inferSchema=True)\n",
    "    view_df.createOrReplaceTempView(view_name)"
   ]
  },
  {
   "cell_type": "code",
   "execution_count": 10,
   "id": "256b38ab-c347-47e7-8a27-57faf57375e7",
   "metadata": {},
   "outputs": [
    {
     "name": "stdout",
     "output_type": "stream",
     "text": [
      "+---------+-------------+-----------+\n",
      "|namespace|    tableName|isTemporary|\n",
      "+---------+-------------+-----------+\n",
      "|  default|        banks|      false|\n",
      "|  default|        loans|      false|\n",
      "|         | action_taken|       true|\n",
      "|         |     counties|       true|\n",
      "|         |denial_reason|       true|\n",
      "|         |    ethnicity|       true|\n",
      "|         | loan_purpose|       true|\n",
      "|         |    loan_type|       true|\n",
      "|         |  preapproval|       true|\n",
      "|         |property_type|       true|\n",
      "|         |         race|       true|\n",
      "|         |          sex|       true|\n",
      "|         |       states|       true|\n",
      "|         |       tracts|       true|\n",
      "+---------+-------------+-----------+\n",
      "\n"
     ]
    }
   ],
   "source": [
    "tables_df = spark.sql(\"SHOW TABLES\")\n",
    "tables_df.show()"
   ]
  },
  {
   "cell_type": "code",
   "execution_count": 11,
   "id": "b0a0e89a-4689-4c69-b04d-9ede5b29a1e7",
   "metadata": {},
   "outputs": [
    {
     "data": {
      "text/plain": [
       "{'banks': False,\n",
       " 'loans': False,\n",
       " 'action_taken': True,\n",
       " 'counties': True,\n",
       " 'denial_reason': True,\n",
       " 'ethnicity': True,\n",
       " 'loan_purpose': True,\n",
       " 'loan_type': True,\n",
       " 'preapproval': True,\n",
       " 'property_type': True,\n",
       " 'race': True,\n",
       " 'sex': True,\n",
       " 'states': True,\n",
       " 'tracts': True}"
      ]
     },
     "execution_count": 11,
     "metadata": {},
     "output_type": "execute_result"
    }
   ],
   "source": [
    "#q4\n",
    "dict = {}\n",
    "tables_pd = tables_df.toPandas()\n",
    "for index, row in tables_pd.iterrows():\n",
    "    dict[row.iloc[1]] = row.iloc[2]\n",
    "dict"
   ]
  },
  {
   "cell_type": "code",
   "execution_count": 12,
   "id": "20c731af-41f7-40bd-bfce-365b2b5c96c6",
   "metadata": {},
   "outputs": [
    {
     "name": "stdout",
     "output_type": "stream",
     "text": [
      "+--------------------+---------+--------------------+--------------------+--------------------+\n",
      "|     respondent_name|arid_2017|            lei_2018|            lei_2019|            lei_2020|\n",
      "+--------------------+---------+--------------------+--------------------+--------------------+\n",
      "| First National Bank|   110004|5493003EW6T31TGECO83|5493003EW6T31TGECO83|5493003EW6T31TGECO83|\n",
      "|First Mid Bank & ...|   110045|549300XOTES5TCS8T794|549300XOTES5TCS8T794|549300XOTES5TCS8T794|\n",
      "|First Hope Bank, ...|   110118|5493003XLOX5FDT9R120|5493003XLOX5FDT9R120|5493003XLOX5FDT9R120|\n",
      "|First National Ba...|   110180|5493002GOGIUXB84JB89|5493002GOGIUXB84JB89|5493002GOGIUXB84JB89|\n",
      "|Cumberland Valley...|   110254|549300OULGV8ZW0JV320|549300OULGV8ZW0JV320|549300OULGV8ZW0JV320|\n",
      "|The Lyons Nationa...|    11027|254900Q6IHGQO7INVC79|254900Q6IHGQO7INVC79|254900Q6IHGQO7INVC79|\n",
      "|Midstates Bank, N...|   110354|2549002IXACRD1HE6A92|2549002IXACRD1HE6A92|2549002IXACRD1HE6A92|\n",
      "|First National Ba...|   110406|5493000LJB0L73TDJT41|5493000LJB0L73TDJT41|5493000LJB0L73TDJT41|\n",
      "|First National Ba...|   110408|549300OIJZOV6CPR1Y57|549300OIJZOV6CPR1Y57|549300OIJZOV6CPR1Y57|\n",
      "|Texas Gulf Bank, ...|   110420|54930031J0Z4IG9PQZ65|54930031J0Z4IG9PQZ65|                NULL|\n",
      "| First National Bank|   110465|54930035C68SRQ1RS395|54930035C68SRQ1RS395|54930035C68SRQ1RS395|\n",
      "|Texana Bank, Nati...|   110476|549300RM1IZYGQDSNL85|549300RM1IZYGQDSNL85|549300RM1IZYGQDSNL85|\n",
      "|The Conway Nation...|   110536|2549008EFPQHWHJ5MO60|2549008EFPQHWHJ5MO60|2549008EFPQHWHJ5MO60|\n",
      "|BTH Bank, Nationa...|   110646|549300U852CO3ZPGIE54|549300U852CO3ZPGIE54|549300U852CO3ZPGIE54|\n",
      "|First National Ba...|   110680|549300X0240UXBEJNV56|549300X0240UXBEJNV56|                NULL|\n",
      "|The Citizens Nati...|   110789|549300JYEEYQ3BXVCX06|549300JYEEYQ3BXVCX06|                NULL|\n",
      "|FIRST NATIONAL BA...|   110807|549300SF1PZFMR2YDI96|                NULL|                NULL|\n",
      "|The First Nationa...|    11083|2549009DWV1Z50JILS65|2549009DWV1Z50JILS65|                NULL|\n",
      "|Skyline National ...|   110834|254900R1UY5PAEIHXX38|254900R1UY5PAEIHXX38|254900R1UY5PAEIHXX38|\n",
      "|Bank of Bridger, ...|   110844|549300DY5ZVXIORLFC39|549300DY5ZVXIORLFC39|549300DY5ZVXIORLFC39|\n",
      "+--------------------+---------+--------------------+--------------------+--------------------+\n",
      "only showing top 20 rows\n",
      "\n"
     ]
    }
   ],
   "source": [
    "spark.sql(\"SELECT * FROM banks\").show()"
   ]
  },
  {
   "cell_type": "code",
   "execution_count": 13,
   "id": "6f0a13d2-d49a-4bb7-b052-70250d6ae1ea",
   "metadata": {},
   "outputs": [
    {
     "name": "stderr",
     "output_type": "stream",
     "text": [
      "                                                                                \r"
     ]
    },
    {
     "data": {
      "text/plain": [
       "6"
      ]
     },
     "execution_count": 13,
     "metadata": {},
     "output_type": "execute_result"
    }
   ],
   "source": [
    "#q5\n",
    "banks_loans_df = spark.sql(\"\"\"\n",
    "    SELECT loans.*, banks.respondent_name\n",
    "    FROM loans\n",
    "    INNER JOIN banks ON loans.lei = banks.lei_2020\n",
    "\"\"\")\n",
    "num_loan_applications = banks_loans_df.filter(\"respondent_name = 'First National Bank'\").count()\n",
    "num_loan_applications"
   ]
  },
  {
   "cell_type": "code",
   "execution_count": 14,
   "id": "f2f87691-b3c1-4f1a-8358-92f40d4b6541",
   "metadata": {},
   "outputs": [
    {
     "name": "stdout",
     "output_type": "stream",
     "text": [
      "== Physical Plan ==\n",
      "AdaptiveSparkPlan (8)\n",
      "+- Project (7)\n",
      "   +- BroadcastHashJoin Inner BuildRight (6)\n",
      "      :- Filter (2)\n",
      "      :  +- Scan parquet spark_catalog.default.loans (1)\n",
      "      +- BroadcastExchange (5)\n",
      "         +- Filter (4)\n",
      "            +- Scan parquet spark_catalog.default.banks (3)\n",
      "\n",
      "\n",
      "(1) Scan parquet spark_catalog.default.loans\n",
      "Output [99]: [activity_year#1025, lei#1026, derived_msa-md#1027, state_code#1028, county_code#1029, census_tract#1030, conforming_loan_limit#1031, derived_loan_product_type#1032, derived_dwelling_category#1033, derived_ethnicity#1034, derived_race#1035, derived_sex#1036, action_taken#1037, purchaser_type#1038, preapproval#1039, loan_type#1040, loan_purpose#1041, lien_status#1042, reverse_mortgage#1043, open-end_line_of_credit#1044, business_or_commercial_purpose#1045, loan_amount#1046, loan_to_value_ratio#1047, interest_rate#1048, rate_spread#1049, hoepa_status#1050, total_loan_costs#1051, total_points_and_fees#1052, origination_charges#1053, discount_points#1054, lender_credits#1055, loan_term#1056, prepayment_penalty_term#1057, intro_rate_period#1058, negative_amortization#1059, interest_only_payment#1060, balloon_payment#1061, other_nonamortizing_features#1062, property_value#1063, construction_method#1064, occupancy_type#1065, manufactured_home_secured_property_type#1066, manufactured_home_land_property_interest#1067, total_units#1068, multifamily_affordable_units#1069, income#1070, debt_to_income_ratio#1071, applicant_credit_score_type#1072, co-applicant_credit_score_type#1073, applicant_ethnicity-1#1074, applicant_ethnicity-2#1075, applicant_ethnicity-3#1076, applicant_ethnicity-4#1077, applicant_ethnicity-5#1078, co-applicant_ethnicity-1#1079, co-applicant_ethnicity-2#1080, co-applicant_ethnicity-3#1081, co-applicant_ethnicity-4#1082, co-applicant_ethnicity-5#1083, applicant_ethnicity_observed#1084, co-applicant_ethnicity_observed#1085, applicant_race-1#1086, applicant_race-2#1087, applicant_race-3#1088, applicant_race-4#1089, applicant_race-5#1090, co-applicant_race-1#1091, co-applicant_race-2#1092, co-applicant_race-3#1093, co-applicant_race-4#1094, co-applicant_race-5#1095, applicant_race_observed#1096, co-applicant_race_observed#1097, applicant_sex#1098, co-applicant_sex#1099, applicant_sex_observed#1100, co-applicant_sex_observed#1101, applicant_age#1102, co-applicant_age#1103, applicant_age_above_62#1104, co-applicant_age_above_62#1105, submission_of_application#1106, initially_payable_to_institution#1107, aus-1#1108, aus-2#1109, aus-3#1110, aus-4#1111, aus-5#1112, denial_reason-1#1113, denial_reason-2#1114, denial_reason-3#1115, denial_reason-4#1116, tract_population#1117, tract_minority_population_percent#1118, ffiec_msa_md_median_family_income#1119, tract_to_msa_income_percentage#1120, tract_owner_occupied_units#1121, tract_one_to_four_family_homes#1122, tract_median_age_of_housing_units#1123]\n",
      "Batched: true\n",
      "Bucketed: false (disabled by query planner)\n",
      "Location: InMemoryFileIndex [hdfs://nn:9000/user/hive/warehouse/loans]\n",
      "PushedFilters: [IsNotNull(lei)]\n",
      "ReadSchema: struct<activity_year:int,lei:string,derived_msa-md:int,state_code:string,county_code:string,census_tract:string,conforming_loan_limit:string,derived_loan_product_type:string,derived_dwelling_category:string,derived_ethnicity:string,derived_race:string,derived_sex:string,action_taken:int,purchaser_type:int,preapproval:int,loan_type:int,loan_purpose:int,lien_status:int,reverse_mortgage:int,open-end_line_of_credit:int,business_or_commercial_purpose:int,loan_amount:double,loan_to_value_ratio:string,interest_rate:string,rate_spread:string,hoepa_status:int,total_loan_costs:string,total_points_and_fees:string,origination_charges:string,discount_points:string,lender_credits:string,loan_term:string,prepayment_penalty_term:string,intro_rate_period:string,negative_amortization:int,interest_only_payment:int,balloon_payment:int,other_nonamortizing_features:int,property_value:string,construction_method:int,occupancy_type:int,manufactured_home_secured_property_type:int,manufactured_home_land_property_interest:int,total_units:string,multifamily_affordable_units:string,income:string,debt_to_income_ratio:string,applicant_credit_score_type:int,co-applicant_credit_score_type:int,applicant_ethnicity-1:int,applicant_ethnicity-2:int,applicant_ethnicity-3:int,applicant_ethnicity-4:int,applicant_ethnicity-5:int,co-applicant_ethnicity-1:int,co-applicant_ethnicity-2:int,co-applicant_ethnicity-3:int,co-applicant_ethnicity-4:int,co-applicant_ethnicity-5:string,applicant_ethnicity_observed:int,co-applicant_ethnicity_observed:int,applicant_race-1:int,applicant_race-2:int,applicant_race-3:int,applicant_race-4:int,applicant_race-5:int,co-applicant_race-1:int,co-applicant_race-2:int,co-applicant_race-3:int,co-applicant_race-4:int,co-applicant_race-5:int,applicant_race_observed:int,co-applicant_race_observed:int,applicant_sex:int,co-applicant_sex:int,applicant_sex_observed:int,co-applicant_sex_observed:int,applicant_age:string,co-applicant_age:string,applicant_age_above_62:string,co-applicant_age_above_62:string,submission_of_application:int,initially_payable_to_institution:int,aus-1:int,aus-2:int,aus-3:int,aus-4:int,aus-5:int,denial_reason-1:int,denial_reason-2:int,denial_reason-3:int,denial_reason-4:int,tract_population:int,tract_minority_population_percent:double,ffiec_msa_md_median_family_income:int,tract_to_msa_income_percentage:int,tract_owner_occupied_units:int,tract_one_to_four_family_homes:int,tract_median_age_of_housing_units:int>\n",
      "\n",
      "(2) Filter\n",
      "Input [99]: [activity_year#1025, lei#1026, derived_msa-md#1027, state_code#1028, county_code#1029, census_tract#1030, conforming_loan_limit#1031, derived_loan_product_type#1032, derived_dwelling_category#1033, derived_ethnicity#1034, derived_race#1035, derived_sex#1036, action_taken#1037, purchaser_type#1038, preapproval#1039, loan_type#1040, loan_purpose#1041, lien_status#1042, reverse_mortgage#1043, open-end_line_of_credit#1044, business_or_commercial_purpose#1045, loan_amount#1046, loan_to_value_ratio#1047, interest_rate#1048, rate_spread#1049, hoepa_status#1050, total_loan_costs#1051, total_points_and_fees#1052, origination_charges#1053, discount_points#1054, lender_credits#1055, loan_term#1056, prepayment_penalty_term#1057, intro_rate_period#1058, negative_amortization#1059, interest_only_payment#1060, balloon_payment#1061, other_nonamortizing_features#1062, property_value#1063, construction_method#1064, occupancy_type#1065, manufactured_home_secured_property_type#1066, manufactured_home_land_property_interest#1067, total_units#1068, multifamily_affordable_units#1069, income#1070, debt_to_income_ratio#1071, applicant_credit_score_type#1072, co-applicant_credit_score_type#1073, applicant_ethnicity-1#1074, applicant_ethnicity-2#1075, applicant_ethnicity-3#1076, applicant_ethnicity-4#1077, applicant_ethnicity-5#1078, co-applicant_ethnicity-1#1079, co-applicant_ethnicity-2#1080, co-applicant_ethnicity-3#1081, co-applicant_ethnicity-4#1082, co-applicant_ethnicity-5#1083, applicant_ethnicity_observed#1084, co-applicant_ethnicity_observed#1085, applicant_race-1#1086, applicant_race-2#1087, applicant_race-3#1088, applicant_race-4#1089, applicant_race-5#1090, co-applicant_race-1#1091, co-applicant_race-2#1092, co-applicant_race-3#1093, co-applicant_race-4#1094, co-applicant_race-5#1095, applicant_race_observed#1096, co-applicant_race_observed#1097, applicant_sex#1098, co-applicant_sex#1099, applicant_sex_observed#1100, co-applicant_sex_observed#1101, applicant_age#1102, co-applicant_age#1103, applicant_age_above_62#1104, co-applicant_age_above_62#1105, submission_of_application#1106, initially_payable_to_institution#1107, aus-1#1108, aus-2#1109, aus-3#1110, aus-4#1111, aus-5#1112, denial_reason-1#1113, denial_reason-2#1114, denial_reason-3#1115, denial_reason-4#1116, tract_population#1117, tract_minority_population_percent#1118, ffiec_msa_md_median_family_income#1119, tract_to_msa_income_percentage#1120, tract_owner_occupied_units#1121, tract_one_to_four_family_homes#1122, tract_median_age_of_housing_units#1123]\n",
      "Condition : isnotnull(lei#1026)\n",
      "\n",
      "(3) Scan parquet spark_catalog.default.banks\n",
      "Output [2]: [respondent_name#66, lei_2020#70]\n",
      "Batched: true\n",
      "Location: InMemoryFileIndex [hdfs://nn:9000/user/hive/warehouse/banks]\n",
      "PushedFilters: [IsNotNull(lei_2020)]\n",
      "ReadSchema: struct<respondent_name:string,lei_2020:string>\n",
      "\n",
      "(4) Filter\n",
      "Input [2]: [respondent_name#66, lei_2020#70]\n",
      "Condition : isnotnull(lei_2020#70)\n",
      "\n",
      "(5) BroadcastExchange\n",
      "Input [2]: [respondent_name#66, lei_2020#70]\n",
      "Arguments: HashedRelationBroadcastMode(List(input[1, string, false]),false), [plan_id=633]\n",
      "\n",
      "(6) BroadcastHashJoin\n",
      "Left keys [1]: [lei#1026]\n",
      "Right keys [1]: [lei_2020#70]\n",
      "Join type: Inner\n",
      "Join condition: None\n",
      "\n",
      "(7) Project\n",
      "Output [100]: [activity_year#1025, lei#1026, derived_msa-md#1027, state_code#1028, county_code#1029, census_tract#1030, conforming_loan_limit#1031, derived_loan_product_type#1032, derived_dwelling_category#1033, derived_ethnicity#1034, derived_race#1035, derived_sex#1036, action_taken#1037, purchaser_type#1038, preapproval#1039, loan_type#1040, loan_purpose#1041, lien_status#1042, reverse_mortgage#1043, open-end_line_of_credit#1044, business_or_commercial_purpose#1045, loan_amount#1046, loan_to_value_ratio#1047, interest_rate#1048, rate_spread#1049, hoepa_status#1050, total_loan_costs#1051, total_points_and_fees#1052, origination_charges#1053, discount_points#1054, lender_credits#1055, loan_term#1056, prepayment_penalty_term#1057, intro_rate_period#1058, negative_amortization#1059, interest_only_payment#1060, balloon_payment#1061, other_nonamortizing_features#1062, property_value#1063, construction_method#1064, occupancy_type#1065, manufactured_home_secured_property_type#1066, manufactured_home_land_property_interest#1067, total_units#1068, multifamily_affordable_units#1069, income#1070, debt_to_income_ratio#1071, applicant_credit_score_type#1072, co-applicant_credit_score_type#1073, applicant_ethnicity-1#1074, applicant_ethnicity-2#1075, applicant_ethnicity-3#1076, applicant_ethnicity-4#1077, applicant_ethnicity-5#1078, co-applicant_ethnicity-1#1079, co-applicant_ethnicity-2#1080, co-applicant_ethnicity-3#1081, co-applicant_ethnicity-4#1082, co-applicant_ethnicity-5#1083, applicant_ethnicity_observed#1084, co-applicant_ethnicity_observed#1085, applicant_race-1#1086, applicant_race-2#1087, applicant_race-3#1088, applicant_race-4#1089, applicant_race-5#1090, co-applicant_race-1#1091, co-applicant_race-2#1092, co-applicant_race-3#1093, co-applicant_race-4#1094, co-applicant_race-5#1095, applicant_race_observed#1096, co-applicant_race_observed#1097, applicant_sex#1098, co-applicant_sex#1099, applicant_sex_observed#1100, co-applicant_sex_observed#1101, applicant_age#1102, co-applicant_age#1103, applicant_age_above_62#1104, co-applicant_age_above_62#1105, submission_of_application#1106, initially_payable_to_institution#1107, aus-1#1108, aus-2#1109, aus-3#1110, aus-4#1111, aus-5#1112, denial_reason-1#1113, denial_reason-2#1114, denial_reason-3#1115, denial_reason-4#1116, tract_population#1117, tract_minority_population_percent#1118, ffiec_msa_md_median_family_income#1119, tract_to_msa_income_percentage#1120, tract_owner_occupied_units#1121, tract_one_to_four_family_homes#1122, tract_median_age_of_housing_units#1123, respondent_name#66]\n",
      "Input [101]: [activity_year#1025, lei#1026, derived_msa-md#1027, state_code#1028, county_code#1029, census_tract#1030, conforming_loan_limit#1031, derived_loan_product_type#1032, derived_dwelling_category#1033, derived_ethnicity#1034, derived_race#1035, derived_sex#1036, action_taken#1037, purchaser_type#1038, preapproval#1039, loan_type#1040, loan_purpose#1041, lien_status#1042, reverse_mortgage#1043, open-end_line_of_credit#1044, business_or_commercial_purpose#1045, loan_amount#1046, loan_to_value_ratio#1047, interest_rate#1048, rate_spread#1049, hoepa_status#1050, total_loan_costs#1051, total_points_and_fees#1052, origination_charges#1053, discount_points#1054, lender_credits#1055, loan_term#1056, prepayment_penalty_term#1057, intro_rate_period#1058, negative_amortization#1059, interest_only_payment#1060, balloon_payment#1061, other_nonamortizing_features#1062, property_value#1063, construction_method#1064, occupancy_type#1065, manufactured_home_secured_property_type#1066, manufactured_home_land_property_interest#1067, total_units#1068, multifamily_affordable_units#1069, income#1070, debt_to_income_ratio#1071, applicant_credit_score_type#1072, co-applicant_credit_score_type#1073, applicant_ethnicity-1#1074, applicant_ethnicity-2#1075, applicant_ethnicity-3#1076, applicant_ethnicity-4#1077, applicant_ethnicity-5#1078, co-applicant_ethnicity-1#1079, co-applicant_ethnicity-2#1080, co-applicant_ethnicity-3#1081, co-applicant_ethnicity-4#1082, co-applicant_ethnicity-5#1083, applicant_ethnicity_observed#1084, co-applicant_ethnicity_observed#1085, applicant_race-1#1086, applicant_race-2#1087, applicant_race-3#1088, applicant_race-4#1089, applicant_race-5#1090, co-applicant_race-1#1091, co-applicant_race-2#1092, co-applicant_race-3#1093, co-applicant_race-4#1094, co-applicant_race-5#1095, applicant_race_observed#1096, co-applicant_race_observed#1097, applicant_sex#1098, co-applicant_sex#1099, applicant_sex_observed#1100, co-applicant_sex_observed#1101, applicant_age#1102, co-applicant_age#1103, applicant_age_above_62#1104, co-applicant_age_above_62#1105, submission_of_application#1106, initially_payable_to_institution#1107, aus-1#1108, aus-2#1109, aus-3#1110, aus-4#1111, aus-5#1112, denial_reason-1#1113, denial_reason-2#1114, denial_reason-3#1115, denial_reason-4#1116, tract_population#1117, tract_minority_population_percent#1118, ffiec_msa_md_median_family_income#1119, tract_to_msa_income_percentage#1120, tract_owner_occupied_units#1121, tract_one_to_four_family_homes#1122, tract_median_age_of_housing_units#1123, respondent_name#66, lei_2020#70]\n",
      "\n",
      "(8) AdaptiveSparkPlan\n",
      "Output [100]: [activity_year#1025, lei#1026, derived_msa-md#1027, state_code#1028, county_code#1029, census_tract#1030, conforming_loan_limit#1031, derived_loan_product_type#1032, derived_dwelling_category#1033, derived_ethnicity#1034, derived_race#1035, derived_sex#1036, action_taken#1037, purchaser_type#1038, preapproval#1039, loan_type#1040, loan_purpose#1041, lien_status#1042, reverse_mortgage#1043, open-end_line_of_credit#1044, business_or_commercial_purpose#1045, loan_amount#1046, loan_to_value_ratio#1047, interest_rate#1048, rate_spread#1049, hoepa_status#1050, total_loan_costs#1051, total_points_and_fees#1052, origination_charges#1053, discount_points#1054, lender_credits#1055, loan_term#1056, prepayment_penalty_term#1057, intro_rate_period#1058, negative_amortization#1059, interest_only_payment#1060, balloon_payment#1061, other_nonamortizing_features#1062, property_value#1063, construction_method#1064, occupancy_type#1065, manufactured_home_secured_property_type#1066, manufactured_home_land_property_interest#1067, total_units#1068, multifamily_affordable_units#1069, income#1070, debt_to_income_ratio#1071, applicant_credit_score_type#1072, co-applicant_credit_score_type#1073, applicant_ethnicity-1#1074, applicant_ethnicity-2#1075, applicant_ethnicity-3#1076, applicant_ethnicity-4#1077, applicant_ethnicity-5#1078, co-applicant_ethnicity-1#1079, co-applicant_ethnicity-2#1080, co-applicant_ethnicity-3#1081, co-applicant_ethnicity-4#1082, co-applicant_ethnicity-5#1083, applicant_ethnicity_observed#1084, co-applicant_ethnicity_observed#1085, applicant_race-1#1086, applicant_race-2#1087, applicant_race-3#1088, applicant_race-4#1089, applicant_race-5#1090, co-applicant_race-1#1091, co-applicant_race-2#1092, co-applicant_race-3#1093, co-applicant_race-4#1094, co-applicant_race-5#1095, applicant_race_observed#1096, co-applicant_race_observed#1097, applicant_sex#1098, co-applicant_sex#1099, applicant_sex_observed#1100, co-applicant_sex_observed#1101, applicant_age#1102, co-applicant_age#1103, applicant_age_above_62#1104, co-applicant_age_above_62#1105, submission_of_application#1106, initially_payable_to_institution#1107, aus-1#1108, aus-2#1109, aus-3#1110, aus-4#1111, aus-5#1112, denial_reason-1#1113, denial_reason-2#1114, denial_reason-3#1115, denial_reason-4#1116, tract_population#1117, tract_minority_population_percent#1118, ffiec_msa_md_median_family_income#1119, tract_to_msa_income_percentage#1120, tract_owner_occupied_units#1121, tract_one_to_four_family_homes#1122, tract_median_age_of_housing_units#1123, respondent_name#66]\n",
      "Arguments: isFinalPlan=false\n",
      "\n",
      "\n"
     ]
    }
   ],
   "source": [
    "banks_loans_df.explain(\"formatted\")"
   ]
  },
  {
   "cell_type": "code",
   "execution_count": 15,
   "id": "3b4bd204-81b1-4700-8b2d-2b8fa19b78be",
   "metadata": {},
   "outputs": [],
   "source": [
    "#q6\n",
    "# 1. Banks. In the output above, BroadcastExchange, which is a part of BroadcastHashJoin, sends the banks table to every executor\n",
    "# 2. No, the plan does not involve HashAggregates. I know this because from the output above, we see that the query doesn't use any aggregate functions, such as COUNT, SUM, or AVG"
   ]
  },
  {
   "cell_type": "code",
   "execution_count": 16,
   "id": "481a6247-c2ba-49df-85f0-d7450fb1558a",
   "metadata": {},
   "outputs": [
    {
     "name": "stdout",
     "output_type": "stream",
     "text": [
      "+----+---------+---------+----------+-----+------+----+----+----------+\n",
      "|AREA|PERIMETER|CO99_D00_|CO99_D00_I|STATE|COUNTY|NAME|LSAD|LSAD_TRANS|\n",
      "+----+---------+---------+----------+-----+------+----+----+----------+\n",
      "+----+---------+---------+----------+-----+------+----+----+----------+\n",
      "\n",
      "+-------------+---+--------------+----------+-----------+------------+---------------------+-------------------------+-------------------------+-----------------+------------+-----------+------------+--------------+-----------+---------+------------+-----------+----------------+-----------------------+------------------------------+-----------+-------------------+-------------+-----------+------------+----------------+---------------------+-------------------+---------------+--------------+---------+-----------------------+-----------------+---------------------+---------------------+---------------+----------------------------+--------------+-------------------+--------------+---------------------------------------+----------------------------------------+-----------+----------------------------+------+--------------------+---------------------------+------------------------------+---------------------+---------------------+---------------------+---------------------+---------------------+------------------------+------------------------+------------------------+------------------------+------------------------+----------------------------+-------------------------------+----------------+----------------+----------------+----------------+----------------+-------------------+-------------------+-------------------+-------------------+-------------------+-----------------------+--------------------------+-------------+----------------+----------------------+-------------------------+-------------+----------------+----------------------+-------------------------+-------------------------+--------------------------------+-----+-----+-----+-----+-----+---------------+---------------+---------------+---------------+----------------+---------------------------------+---------------------------------+------------------------------+--------------------------+------------------------------+---------------------------------+\n",
      "|activity_year|lei|derived_msa-md|state_code|county_code|census_tract|conforming_loan_limit|derived_loan_product_type|derived_dwelling_category|derived_ethnicity|derived_race|derived_sex|action_taken|purchaser_type|preapproval|loan_type|loan_purpose|lien_status|reverse_mortgage|open-end_line_of_credit|business_or_commercial_purpose|loan_amount|loan_to_value_ratio|interest_rate|rate_spread|hoepa_status|total_loan_costs|total_points_and_fees|origination_charges|discount_points|lender_credits|loan_term|prepayment_penalty_term|intro_rate_period|negative_amortization|interest_only_payment|balloon_payment|other_nonamortizing_features|property_value|construction_method|occupancy_type|manufactured_home_secured_property_type|manufactured_home_land_property_interest|total_units|multifamily_affordable_units|income|debt_to_income_ratio|applicant_credit_score_type|co-applicant_credit_score_type|applicant_ethnicity-1|applicant_ethnicity-2|applicant_ethnicity-3|applicant_ethnicity-4|applicant_ethnicity-5|co-applicant_ethnicity-1|co-applicant_ethnicity-2|co-applicant_ethnicity-3|co-applicant_ethnicity-4|co-applicant_ethnicity-5|applicant_ethnicity_observed|co-applicant_ethnicity_observed|applicant_race-1|applicant_race-2|applicant_race-3|applicant_race-4|applicant_race-5|co-applicant_race-1|co-applicant_race-2|co-applicant_race-3|co-applicant_race-4|co-applicant_race-5|applicant_race_observed|co-applicant_race_observed|applicant_sex|co-applicant_sex|applicant_sex_observed|co-applicant_sex_observed|applicant_age|co-applicant_age|applicant_age_above_62|co-applicant_age_above_62|submission_of_application|initially_payable_to_institution|aus-1|aus-2|aus-3|aus-4|aus-5|denial_reason-1|denial_reason-2|denial_reason-3|denial_reason-4|tract_population|tract_minority_population_percent|ffiec_msa_md_median_family_income|tract_to_msa_income_percentage|tract_owner_occupied_units|tract_one_to_four_family_homes|tract_median_age_of_housing_units|\n",
      "+-------------+---+--------------+----------+-----------+------------+---------------------+-------------------------+-------------------------+-----------------+------------+-----------+------------+--------------+-----------+---------+------------+-----------+----------------+-----------------------+------------------------------+-----------+-------------------+-------------+-----------+------------+----------------+---------------------+-------------------+---------------+--------------+---------+-----------------------+-----------------+---------------------+---------------------+---------------+----------------------------+--------------+-------------------+--------------+---------------------------------------+----------------------------------------+-----------+----------------------------+------+--------------------+---------------------------+------------------------------+---------------------+---------------------+---------------------+---------------------+---------------------+------------------------+------------------------+------------------------+------------------------+------------------------+----------------------------+-------------------------------+----------------+----------------+----------------+----------------+----------------+-------------------+-------------------+-------------------+-------------------+-------------------+-----------------------+--------------------------+-------------+----------------+----------------------+-------------------------+-------------+----------------+----------------------+-------------------------+-------------------------+--------------------------------+-----+-----+-----+-----+-----+---------------+---------------+---------------+---------------+----------------+---------------------------------+---------------------------------+------------------------------+--------------------------+------------------------------+---------------------------------+\n",
      "+-------------+---+--------------+----------+-----------+------------+---------------------+-------------------------+-------------------------+-----------------+------------+-----------+------------+--------------+-----------+---------+------------+-----------+----------------+-----------------------+------------------------------+-----------+-------------------+-------------+-----------+------------+----------------+---------------------+-------------------+---------------+--------------+---------+-----------------------+-----------------+---------------------+---------------------+---------------+----------------------------+--------------+-------------------+--------------+---------------------------------------+----------------------------------------+-----------+----------------------------+------+--------------------+---------------------------+------------------------------+---------------------+---------------------+---------------------+---------------------+---------------------+------------------------+------------------------+------------------------+------------------------+------------------------+----------------------------+-------------------------------+----------------+----------------+----------------+----------------+----------------+-------------------+-------------------+-------------------+-------------------+-------------------+-----------------------+--------------------------+-------------+----------------+----------------------+-------------------------+-------------+----------------+----------------------+-------------------------+-------------------------+--------------------------------+-----+-----+-----+-----+-----+---------------+---------------+---------------+---------------+----------------+---------------------------------+---------------------------------+------------------------------+--------------------------+------------------------------+---------------------------------+\n",
      "\n"
     ]
    }
   ],
   "source": [
    "spark.sql(\"SELECT * FROM counties WHERE 1=0\").show()\n",
    "spark.sql(\"SELECT * FROM loans WHERE 1=0\").show()"
   ]
  },
  {
   "cell_type": "code",
   "execution_count": 17,
   "id": "1b85372e-4232-4e48-aa9e-928ab5906a7c",
   "metadata": {},
   "outputs": [
    {
     "name": "stderr",
     "output_type": "stream",
     "text": [
      "                                                                                \r"
     ]
    },
    {
     "data": {
      "text/plain": [
       "{'55127': 282,\n",
       " '55005': 58,\n",
       " '55015': 125,\n",
       " '55089': 389,\n",
       " '55013': 62,\n",
       " '55007': 33,\n",
       " '55099': 13,\n",
       " '55065': 12,\n",
       " '55023': 8,\n",
       " '55109': 289,\n",
       " '55061': 22,\n",
       " '55131': 748,\n",
       " '55117': 307,\n",
       " '55033': 43,\n",
       " '55049': 26,\n",
       " '55047': 30,\n",
       " '55097': 44,\n",
       " '55081': 35,\n",
       " '55111': 108,\n",
       " '55021': 79,\n",
       " '55063': 129,\n",
       " '55087': 513,\n",
       " '55069': 35,\n",
       " '55045': 23,\n",
       " '55001': 46,\n",
       " '55115': 81,\n",
       " '55003': 17,\n",
       " '55078': 7,\n",
       " '55077': 29,\n",
       " '55059': 271,\n",
       " '55139': 402,\n",
       " '55067': 26,\n",
       " '55075': 49,\n",
       " '55027': 129,\n",
       " '55031': 78,\n",
       " '55105': 181,\n",
       " '55085': 70,\n",
       " '55017': 122,\n",
       " '55011': 33,\n",
       " '55057': 27,\n",
       " '55073': 153,\n",
       " '55123': 16,\n",
       " '55119': 17,\n",
       " '55137': 43,\n",
       " '55129': 39,\n",
       " '55121': 19,\n",
       " '55101': 537,\n",
       " '55083': 99,\n",
       " '55141': 44,\n",
       " '55019': 20,\n",
       " '55051': 23,\n",
       " '55079': 2164,\n",
       " '55025': 729,\n",
       " '55071': 116,\n",
       " '55095': 95,\n",
       " '55093': 80,\n",
       " '55039': 163,\n",
       " '55055': 131,\n",
       " '55035': 160,\n",
       " '55107': 33,\n",
       " '55029': 87,\n",
       " '55043': 19,\n",
       " '55113': 38,\n",
       " '55037': 8,\n",
       " '55091': 10,\n",
       " '55053': 10,\n",
       " '55009': 663,\n",
       " '55135': 72,\n",
       " '55133': 1832,\n",
       " '55125': 68,\n",
       " '55041': 7,\n",
       " '55103': 11}"
      ]
     },
     "execution_count": 17,
     "metadata": {},
     "output_type": "execute_result"
    }
   ],
   "source": [
    "#q7\n",
    "wells_fargo = spark.sql(\"\"\"\n",
    "    SELECT loans.*, banks.respondent_name\n",
    "    FROM loans\n",
    "    INNER JOIN banks ON loans.lei = banks.lei_2020\n",
    "    WHERE banks.respondent_name LIKE '%Wells Fargo%'\n",
    "\"\"\")\n",
    "\n",
    "avg = wells_fargo.groupBy(\"county_code\").avg(\"loan_amount\")\n",
    "\n",
    "top_ten = avg.join(\n",
    "    spark.table(\"counties\"),\n",
    "    avg.county_code == (col(\"counties.STATE\") * 1000 + col(\"counties.NAME\"))\n",
    ").orderBy(col(\"avg(loan_amount)\").desc()).limit(10)\n",
    "\n",
    "apps = wells_fargo.groupBy(\"county_code\").count()\n",
    "\n",
    "# i'm really close on this one but I couldn't figure out how to join apps and top_ten on name without receiving an exception\n",
    "counties = apps.join(\n",
    "    top_ten,\n",
    "    apps.county_code == top_ten.county_code\n",
    ").select(\"counties.NAME\", \"count\")\n",
    "\n",
    "wells_fargo_dict = {}\n",
    "wells_fargo_pd = apps.toPandas()\n",
    "for index, row in wells_fargo_pd.iterrows():\n",
    "    wells_fargo_dict[row.iloc[0]] = row.iloc[1]\n",
    "wells_fargo_dict"
   ]
  },
  {
   "cell_type": "code",
   "execution_count": 18,
   "id": "8b5b86e5-00b8-47d8-8741-fea6a2a8ac72",
   "metadata": {},
   "outputs": [
    {
     "name": "stdout",
     "output_type": "stream",
     "text": [
      "== Physical Plan ==\n",
      "AdaptiveSparkPlan (4)\n",
      "+- HashAggregate (3)\n",
      "   +- HashAggregate (2)\n",
      "      +- Scan parquet spark_catalog.default.loans (1)\n",
      "\n",
      "\n",
      "(1) Scan parquet spark_catalog.default.loans\n",
      "Output [2]: [county_code#1029, loan_amount#1046]\n",
      "Batched: true\n",
      "Bucketed: true\n",
      "Location: InMemoryFileIndex [hdfs://nn:9000/user/hive/warehouse/loans]\n",
      "ReadSchema: struct<county_code:string,loan_amount:double>\n",
      "SelectedBucketsCount: 8 out of 8\n",
      "\n",
      "(2) HashAggregate\n",
      "Input [2]: [county_code#1029, loan_amount#1046]\n",
      "Keys [1]: [county_code#1029]\n",
      "Functions [1]: [partial_avg(loan_amount#1046)]\n",
      "Aggregate Attributes [2]: [sum#2351, count#2352L]\n",
      "Results [3]: [county_code#1029, sum#2353, count#2354L]\n",
      "\n",
      "(3) HashAggregate\n",
      "Input [3]: [county_code#1029, sum#2353, count#2354L]\n",
      "Keys [1]: [county_code#1029]\n",
      "Functions [1]: [avg(loan_amount#1046)]\n",
      "Aggregate Attributes [1]: [avg(loan_amount#1046)#2348]\n",
      "Results [2]: [county_code#1029, avg(loan_amount#1046)#2348 AS avg_loan_amount#2347]\n",
      "\n",
      "(4) AdaptiveSparkPlan\n",
      "Output [2]: [county_code#1029, avg_loan_amount#2347]\n",
      "Arguments: isFinalPlan=false\n",
      "\n",
      "\n",
      "== Physical Plan ==\n",
      "AdaptiveSparkPlan (5)\n",
      "+- HashAggregate (4)\n",
      "   +- Exchange (3)\n",
      "      +- HashAggregate (2)\n",
      "         +- Scan parquet spark_catalog.default.loans (1)\n",
      "\n",
      "\n",
      "(1) Scan parquet spark_catalog.default.loans\n",
      "Output [2]: [lei#1026, loan_amount#1046]\n",
      "Batched: true\n",
      "Bucketed: false (bucket column(s) not read)\n",
      "Location: InMemoryFileIndex [hdfs://nn:9000/user/hive/warehouse/loans]\n",
      "ReadSchema: struct<lei:string,loan_amount:double>\n",
      "\n",
      "(2) HashAggregate\n",
      "Input [2]: [lei#1026, loan_amount#1046]\n",
      "Keys [1]: [lei#1026]\n",
      "Functions [1]: [partial_avg(loan_amount#1046)]\n",
      "Aggregate Attributes [2]: [sum#2359, count#2360L]\n",
      "Results [3]: [lei#1026, sum#2361, count#2362L]\n",
      "\n",
      "(3) Exchange\n",
      "Input [3]: [lei#1026, sum#2361, count#2362L]\n",
      "Arguments: hashpartitioning(lei#1026, 200), ENSURE_REQUIREMENTS, [plan_id=773]\n",
      "\n",
      "(4) HashAggregate\n",
      "Input [3]: [lei#1026, sum#2361, count#2362L]\n",
      "Keys [1]: [lei#1026]\n",
      "Functions [1]: [avg(loan_amount#1046)]\n",
      "Aggregate Attributes [1]: [avg(loan_amount#1046)#2356]\n",
      "Results [2]: [lei#1026, avg(loan_amount#1046)#2356 AS avg_loan_amount#2355]\n",
      "\n",
      "(5) AdaptiveSparkPlan\n",
      "Output [2]: [lei#1026, avg_loan_amount#2355]\n",
      "Arguments: isFinalPlan=false\n",
      "\n",
      "\n"
     ]
    }
   ],
   "source": [
    "group_by_county_code = spark.sql(\"\"\"\n",
    "    SELECT county_code, AVG(loan_amount) AS avg_loan_amount\n",
    "    FROM loans\n",
    "    GROUP BY county_code\n",
    "\"\"\")\n",
    "group_by_county_code.explain(\"formatted\")\n",
    "\n",
    "# Grouping by lei column\n",
    "group_by_lei = spark.sql(\"\"\"\n",
    "    SELECT lei, AVG(loan_amount) AS avg_loan_amount\n",
    "    FROM loans\n",
    "    GROUP BY lei\n",
    "\"\"\")\n",
    "group_by_lei.explain(\"formatted\")"
   ]
  },
  {
   "cell_type": "code",
   "execution_count": 19,
   "id": "f239efd1-d061-44bd-b78a-2042f0ac1083",
   "metadata": {},
   "outputs": [],
   "source": [
    "#q8\n",
    "# Network I/O is needed to exchange data between nodes.\n",
    "# As seen in the explanation of these queries, grouping by county_code does not require an Exchange step, but grouping by lei does. \n",
    "# Therefore, network I/O is necessary for grouping by lei because the associated query uses an Exchange step.\n",
    "# Network I/O is not necessary for grouping by county_code because the associated query does not use an Exchange step"
   ]
  },
  {
   "cell_type": "code",
   "execution_count": 20,
   "id": "766e8ddf-d083-4579-b9b1-a12cc21b43f2",
   "metadata": {},
   "outputs": [
    {
     "name": "stderr",
     "output_type": "stream",
     "text": [
      "                                                                                \r"
     ]
    },
    {
     "data": {
      "text/plain": [
       "0"
      ]
     },
     "execution_count": 20,
     "metadata": {},
     "output_type": "execute_result"
    }
   ],
   "source": [
    "#q9\n",
    "df = spark.sql(\"\"\"\n",
    "    SELECT CAST(loan_amount AS DOUBLE) AS loan_amount,\n",
    "           CAST(income AS DOUBLE) AS income,\n",
    "           CAST(interest_rate AS DOUBLE) AS interest_rate,\n",
    "           CAST((action_taken = 'Loan originated') AS DOUBLE) AS approval\n",
    "    FROM loans\n",
    "\"\"\")\n",
    "\n",
    "filled_df = df.fillna(0.0, subset=['loan_amount', 'income', 'interest_rate', 'approval'])\n",
    "train, test = filled_df.randomSplit([0.8, 0.2], seed=41)\n",
    "\n",
    "train.write.format(\"parquet\").mode(\"ignore\").save(\"hdfs://nn:9000/train.parquet\")\n",
    "test.write.format(\"parquet\").mode(\"ignore\").save(\"hdfs://nn:9000/test.parquet\")\n",
    "\n",
    "train = spark.read.format(\"parquet\").load(\"hdfs://nn:9000/train.parquet\")\n",
    "test = spark.read.format(\"parquet\").load(\"hdfs://nn:9000/test.parquet\")\n",
    "\n",
    "train.cache()\n",
    "\n",
    "num_approved_loans_train = train.filter(col(\"approval\") == 1).count()\n",
    "\n",
    "# not sure why I'm only getting 0; my code looks right as far as I can tell\n",
    "num_approved_loans_train"
   ]
  },
  {
   "cell_type": "code",
   "execution_count": 21,
   "id": "87bd1c6c-7b08-4c0b-954f-e5e1b6ece9fc",
   "metadata": {},
   "outputs": [],
   "source": [
    "#q10\n",
    "# I ran into a lot of problems on this one because I was having difficulty getting the correct answer for the previous question"
   ]
  },
  {
   "cell_type": "code",
   "execution_count": null,
   "id": "ca8360a8-ba63-4c0e-b124-0b2ccc3191fd",
   "metadata": {},
   "outputs": [],
   "source": []
  }
 ],
 "metadata": {
  "kernelspec": {
   "display_name": "Python 3 (ipykernel)",
   "language": "python",
   "name": "python3"
  },
  "language_info": {
   "codemirror_mode": {
    "name": "ipython",
    "version": 3
   },
   "file_extension": ".py",
   "mimetype": "text/x-python",
   "name": "python",
   "nbconvert_exporter": "python",
   "pygments_lexer": "ipython3",
   "version": "3.10.12"
  }
 },
 "nbformat": 4,
 "nbformat_minor": 5
}
