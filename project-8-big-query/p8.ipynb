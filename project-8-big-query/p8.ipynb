{
 "cells": [
  {
   "cell_type": "code",
   "execution_count": 1,
   "id": "01f188ae-8fc2-48db-a8a5-65768b437a2c",
   "metadata": {},
   "outputs": [],
   "source": [
    "from google.cloud import bigquery\n",
    "bq = bigquery.Client()"
   ]
  },
  {
   "cell_type": "code",
   "execution_count": 2,
   "id": "7ab34eb7-a3ca-435a-958a-4ddb9c31a229",
   "metadata": {},
   "outputs": [],
   "source": [
    "%load_ext google.cloud.bigquery"
   ]
  },
  {
   "cell_type": "code",
   "execution_count": 3,
   "id": "9faa47ec-8e2d-43cd-9eb8-442e95f4d6c5",
   "metadata": {},
   "outputs": [
    {
     "data": {
      "application/vnd.jupyter.widget-view+json": {
       "model_id": "f1d1c743e99148feaa21453b7679cd5f",
       "version_major": 2,
       "version_minor": 0
      },
      "text/plain": [
       "Query is running:   0%|          |"
      ]
     },
     "metadata": {},
     "output_type": "display_data"
    },
    {
     "data": {
      "application/vnd.jupyter.widget-view+json": {
       "model_id": "ff881d5d6af94b03ae14fb67981297df",
       "version_major": 2,
       "version_minor": 0
      },
      "text/plain": [
       "Downloading:   0%|          |"
      ]
     },
     "metadata": {},
     "output_type": "display_data"
    },
    {
     "data": {
      "text/html": [
       "<div>\n",
       "<style scoped>\n",
       "    .dataframe tbody tr th:only-of-type {\n",
       "        vertical-align: middle;\n",
       "    }\n",
       "\n",
       "    .dataframe tbody tr th {\n",
       "        vertical-align: top;\n",
       "    }\n",
       "\n",
       "    .dataframe thead th {\n",
       "        text-align: right;\n",
       "    }\n",
       "</style>\n",
       "<table border=\"1\" class=\"dataframe\">\n",
       "  <thead>\n",
       "    <tr style=\"text-align: right;\">\n",
       "      <th></th>\n",
       "      <th>num_rows</th>\n",
       "    </tr>\n",
       "  </thead>\n",
       "  <tbody>\n",
       "    <tr>\n",
       "      <th>0</th>\n",
       "      <td>3233</td>\n",
       "    </tr>\n",
       "  </tbody>\n",
       "</table>\n",
       "</div>"
      ],
      "text/plain": [
       "   num_rows\n",
       "0      3233"
      ]
     },
     "execution_count": 3,
     "metadata": {},
     "output_type": "execute_result"
    }
   ],
   "source": [
    "%%bigquery\n",
    "select count(*) as num_rows \n",
    "from bigquery-public-data.geo_us_boundaries.counties"
   ]
  },
  {
   "cell_type": "code",
   "execution_count": 4,
   "id": "9462ea76-d34c-4f24-ba75-30f5c89ce0b9",
   "metadata": {},
   "outputs": [
    {
     "data": {
      "application/vnd.jupyter.widget-view+json": {
       "model_id": "028322d090e347f9bfd4fa49455eeea2",
       "version_major": 2,
       "version_minor": 0
      },
      "text/plain": [
       "Query is running:   0%|          |"
      ]
     },
     "metadata": {},
     "output_type": "display_data"
    },
    {
     "data": {
      "application/vnd.jupyter.widget-view+json": {
       "model_id": "13e807404dda4e1e9b31c62075732a1d",
       "version_major": 2,
       "version_minor": 0
      },
      "text/plain": [
       "Downloading:   0%|          |"
      ]
     },
     "metadata": {},
     "output_type": "display_data"
    },
    {
     "data": {
      "text/html": [
       "<div>\n",
       "<style scoped>\n",
       "    .dataframe tbody tr th:only-of-type {\n",
       "        vertical-align: middle;\n",
       "    }\n",
       "\n",
       "    .dataframe tbody tr th {\n",
       "        vertical-align: top;\n",
       "    }\n",
       "\n",
       "    .dataframe thead th {\n",
       "        text-align: right;\n",
       "    }\n",
       "</style>\n",
       "<table border=\"1\" class=\"dataframe\">\n",
       "  <thead>\n",
       "    <tr style=\"text-align: right;\">\n",
       "      <th></th>\n",
       "      <th>geo_id</th>\n",
       "      <th>state_fips_code</th>\n",
       "      <th>county_fips_code</th>\n",
       "      <th>county_gnis_code</th>\n",
       "      <th>county_name</th>\n",
       "      <th>lsad_name</th>\n",
       "      <th>lsad_code</th>\n",
       "      <th>fips_class_code</th>\n",
       "      <th>mtfcc_feature_class_code</th>\n",
       "      <th>csa_fips_code</th>\n",
       "      <th>cbsa_fips_code</th>\n",
       "      <th>met_div_fips_code</th>\n",
       "      <th>functional_status</th>\n",
       "      <th>area_land_meters</th>\n",
       "      <th>area_water_meters</th>\n",
       "      <th>int_point_lat</th>\n",
       "      <th>int_point_lon</th>\n",
       "      <th>int_point_geom</th>\n",
       "      <th>county_geom</th>\n",
       "    </tr>\n",
       "  </thead>\n",
       "  <tbody>\n",
       "    <tr>\n",
       "      <th>0</th>\n",
       "      <td>01011</td>\n",
       "      <td>01</td>\n",
       "      <td>01011</td>\n",
       "      <td>00161531</td>\n",
       "      <td>Bullock</td>\n",
       "      <td>Bullock County</td>\n",
       "      <td>06</td>\n",
       "      <td>H1</td>\n",
       "      <td>G4020</td>\n",
       "      <td>None</td>\n",
       "      <td>None</td>\n",
       "      <td>None</td>\n",
       "      <td>A</td>\n",
       "      <td>1613076054</td>\n",
       "      <td>6038093</td>\n",
       "      <td>32.101759</td>\n",
       "      <td>-85.717261</td>\n",
       "      <td>POINT(-85.7172613 32.1017589)</td>\n",
       "      <td>POLYGON((-85.926296 32.054676, -85.920111 32.0...</td>\n",
       "    </tr>\n",
       "    <tr>\n",
       "      <th>1</th>\n",
       "      <td>01025</td>\n",
       "      <td>01</td>\n",
       "      <td>01025</td>\n",
       "      <td>00161538</td>\n",
       "      <td>Clarke</td>\n",
       "      <td>Clarke County</td>\n",
       "      <td>06</td>\n",
       "      <td>H1</td>\n",
       "      <td>G4020</td>\n",
       "      <td>None</td>\n",
       "      <td>None</td>\n",
       "      <td>None</td>\n",
       "      <td>A</td>\n",
       "      <td>3207494106</td>\n",
       "      <td>36657891</td>\n",
       "      <td>31.685521</td>\n",
       "      <td>-87.818624</td>\n",
       "      <td>POINT(-87.8186244 31.6855211)</td>\n",
       "      <td>POLYGON((-88.080207 31.677064, -88.080058 31.6...</td>\n",
       "    </tr>\n",
       "    <tr>\n",
       "      <th>2</th>\n",
       "      <td>01027</td>\n",
       "      <td>01</td>\n",
       "      <td>01027</td>\n",
       "      <td>00161539</td>\n",
       "      <td>Clay</td>\n",
       "      <td>Clay County</td>\n",
       "      <td>06</td>\n",
       "      <td>H1</td>\n",
       "      <td>G4020</td>\n",
       "      <td>None</td>\n",
       "      <td>None</td>\n",
       "      <td>None</td>\n",
       "      <td>A</td>\n",
       "      <td>1564251834</td>\n",
       "      <td>5285207</td>\n",
       "      <td>33.270400</td>\n",
       "      <td>-85.863525</td>\n",
       "      <td>POINT(-85.8635254 33.2703999)</td>\n",
       "      <td>POLYGON((-85.978793 33.327568, -85.978797 33.3...</td>\n",
       "    </tr>\n",
       "    <tr>\n",
       "      <th>3</th>\n",
       "      <td>01029</td>\n",
       "      <td>01</td>\n",
       "      <td>01029</td>\n",
       "      <td>00161540</td>\n",
       "      <td>Cleburne</td>\n",
       "      <td>Cleburne County</td>\n",
       "      <td>06</td>\n",
       "      <td>H1</td>\n",
       "      <td>G4020</td>\n",
       "      <td>None</td>\n",
       "      <td>None</td>\n",
       "      <td>None</td>\n",
       "      <td>A</td>\n",
       "      <td>1450663786</td>\n",
       "      <td>2354896</td>\n",
       "      <td>33.671964</td>\n",
       "      <td>-85.516126</td>\n",
       "      <td>POINT(-85.5161261 33.6719637)</td>\n",
       "      <td>POLYGON((-85.603465 33.788474, -85.603469 33.7...</td>\n",
       "    </tr>\n",
       "    <tr>\n",
       "      <th>4</th>\n",
       "      <td>01111</td>\n",
       "      <td>01</td>\n",
       "      <td>01111</td>\n",
       "      <td>00161582</td>\n",
       "      <td>Randolph</td>\n",
       "      <td>Randolph County</td>\n",
       "      <td>06</td>\n",
       "      <td>H1</td>\n",
       "      <td>G4020</td>\n",
       "      <td>None</td>\n",
       "      <td>None</td>\n",
       "      <td>None</td>\n",
       "      <td>A</td>\n",
       "      <td>1503615937</td>\n",
       "      <td>9285420</td>\n",
       "      <td>33.296475</td>\n",
       "      <td>-85.464068</td>\n",
       "      <td>POINT(-85.4640679 33.2964753)</td>\n",
       "      <td>POLYGON((-85.648139 33.359095, -85.648165 33.3...</td>\n",
       "    </tr>\n",
       "  </tbody>\n",
       "</table>\n",
       "</div>"
      ],
      "text/plain": [
       "  geo_id state_fips_code county_fips_code county_gnis_code county_name  \\\n",
       "0  01011              01            01011         00161531     Bullock   \n",
       "1  01025              01            01025         00161538      Clarke   \n",
       "2  01027              01            01027         00161539        Clay   \n",
       "3  01029              01            01029         00161540    Cleburne   \n",
       "4  01111              01            01111         00161582    Randolph   \n",
       "\n",
       "         lsad_name lsad_code fips_class_code mtfcc_feature_class_code  \\\n",
       "0   Bullock County        06              H1                    G4020   \n",
       "1    Clarke County        06              H1                    G4020   \n",
       "2      Clay County        06              H1                    G4020   \n",
       "3  Cleburne County        06              H1                    G4020   \n",
       "4  Randolph County        06              H1                    G4020   \n",
       "\n",
       "  csa_fips_code cbsa_fips_code met_div_fips_code functional_status  \\\n",
       "0          None           None              None                 A   \n",
       "1          None           None              None                 A   \n",
       "2          None           None              None                 A   \n",
       "3          None           None              None                 A   \n",
       "4          None           None              None                 A   \n",
       "\n",
       "   area_land_meters  area_water_meters  int_point_lat  int_point_lon  \\\n",
       "0        1613076054            6038093      32.101759     -85.717261   \n",
       "1        3207494106           36657891      31.685521     -87.818624   \n",
       "2        1564251834            5285207      33.270400     -85.863525   \n",
       "3        1450663786            2354896      33.671964     -85.516126   \n",
       "4        1503615937            9285420      33.296475     -85.464068   \n",
       "\n",
       "                  int_point_geom  \\\n",
       "0  POINT(-85.7172613 32.1017589)   \n",
       "1  POINT(-87.8186244 31.6855211)   \n",
       "2  POINT(-85.8635254 33.2703999)   \n",
       "3  POINT(-85.5161261 33.6719637)   \n",
       "4  POINT(-85.4640679 33.2964753)   \n",
       "\n",
       "                                         county_geom  \n",
       "0  POLYGON((-85.926296 32.054676, -85.920111 32.0...  \n",
       "1  POLYGON((-88.080207 31.677064, -88.080058 31.6...  \n",
       "2  POLYGON((-85.978793 33.327568, -85.978797 33.3...  \n",
       "3  POLYGON((-85.603465 33.788474, -85.603469 33.7...  \n",
       "4  POLYGON((-85.648139 33.359095, -85.648165 33.3...  "
      ]
     },
     "execution_count": 4,
     "metadata": {},
     "output_type": "execute_result"
    }
   ],
   "source": [
    "%%bigquery\n",
    "select *\n",
    "from bigquery-public-data.geo_us_boundaries.counties\n",
    "limit 5"
   ]
  },
  {
   "cell_type": "code",
   "execution_count": 5,
   "id": "37d95289-d742-495e-b760-0b13d36e5ba0",
   "metadata": {},
   "outputs": [
    {
     "data": {
      "application/vnd.jupyter.widget-view+json": {
       "model_id": "1b101c4d0f884a059bdac30a54af4111",
       "version_major": 2,
       "version_minor": 0
      },
      "text/plain": [
       "Query is running:   0%|          |"
      ]
     },
     "metadata": {},
     "output_type": "display_data"
    },
    {
     "data": {
      "application/vnd.jupyter.widget-view+json": {
       "model_id": "fdab572777f9441799fd6a72be8827f7",
       "version_major": 2,
       "version_minor": 0
      },
      "text/plain": [
       "Downloading:   0%|          |"
      ]
     },
     "metadata": {},
     "output_type": "display_data"
    }
   ],
   "source": [
    "%%bigquery water_df\n",
    "select area_water_meters\n",
    "FROM bigquery-public-data.geo_us_boundaries.counties\n",
    "WHERE county_name = 'Dane'"
   ]
  },
  {
   "cell_type": "code",
   "execution_count": 6,
   "id": "315d72a2-4439-43c0-8070-6adacbba683e",
   "metadata": {},
   "outputs": [
    {
     "data": {
      "application/vnd.jupyter.widget-view+json": {
       "model_id": "db0a38dc9d1844048a06cf92846af9dc",
       "version_major": 2,
       "version_minor": 0
      },
      "text/plain": [
       "Query is running:   0%|          |"
      ]
     },
     "metadata": {},
     "output_type": "display_data"
    },
    {
     "data": {
      "application/vnd.jupyter.widget-view+json": {
       "model_id": "f92cabff69e84e2a996ec8b7bf955fd4",
       "version_major": 2,
       "version_minor": 0
      },
      "text/plain": [
       "Downloading:   0%|          |"
      ]
     },
     "metadata": {},
     "output_type": "display_data"
    }
   ],
   "source": [
    "%%bigquery total_df\n",
    "SELECT SUM(area_land_meters + area_water_meters) AS total_area\n",
    "FROM bigquery-public-data.geo_us_boundaries.counties\n",
    "WHERE county_name = 'Dane'"
   ]
  },
  {
   "cell_type": "code",
   "execution_count": 7,
   "id": "bc8806f0-af5e-430c-9ecf-8951584e6589",
   "metadata": {},
   "outputs": [
    {
     "data": {
      "text/plain": [
       "3.314489915768649"
      ]
     },
     "execution_count": 7,
     "metadata": {},
     "output_type": "execute_result"
    }
   ],
   "source": [
    "#q1\n",
    "water_df['area_water_meters'][0] / total_df['total_area'][0] * 100"
   ]
  },
  {
   "cell_type": "code",
   "execution_count": 8,
   "id": "4f3d3c89-7fe9-4b45-9d2c-6f70139983ba",
   "metadata": {},
   "outputs": [
    {
     "data": {
      "application/vnd.jupyter.widget-view+json": {
       "model_id": "8a74189a46e94f0f88ae483ed7bac3f7",
       "version_major": 2,
       "version_minor": 0
      },
      "text/plain": [
       "Query is running:   0%|          |"
      ]
     },
     "metadata": {},
     "output_type": "display_data"
    },
    {
     "data": {
      "application/vnd.jupyter.widget-view+json": {
       "model_id": "5a1e3faf87ff47acb72b029e7304420d",
       "version_major": 2,
       "version_minor": 0
      },
      "text/plain": [
       "Downloading:   0%|          |"
      ]
     },
     "metadata": {},
     "output_type": "display_data"
    },
    {
     "data": {
      "text/html": [
       "<div>\n",
       "<style scoped>\n",
       "    .dataframe tbody tr th:only-of-type {\n",
       "        vertical-align: middle;\n",
       "    }\n",
       "\n",
       "    .dataframe tbody tr th {\n",
       "        vertical-align: top;\n",
       "    }\n",
       "\n",
       "    .dataframe thead th {\n",
       "        text-align: right;\n",
       "    }\n",
       "</style>\n",
       "<table border=\"1\" class=\"dataframe\">\n",
       "  <thead>\n",
       "    <tr style=\"text-align: right;\">\n",
       "      <th></th>\n",
       "      <th>geo_id</th>\n",
       "      <th>region_code</th>\n",
       "      <th>division_code</th>\n",
       "      <th>state_fips_code</th>\n",
       "      <th>state_gnis_code</th>\n",
       "      <th>state</th>\n",
       "      <th>state_name</th>\n",
       "      <th>lsad_code</th>\n",
       "      <th>mtfcc_feature_class_code</th>\n",
       "      <th>functional_status</th>\n",
       "      <th>area_land_meters</th>\n",
       "      <th>area_water_meters</th>\n",
       "      <th>int_point_lat</th>\n",
       "      <th>int_point_lon</th>\n",
       "      <th>int_point_geom</th>\n",
       "      <th>state_geom</th>\n",
       "    </tr>\n",
       "  </thead>\n",
       "  <tbody>\n",
       "    <tr>\n",
       "      <th>0</th>\n",
       "      <td>66</td>\n",
       "      <td>9</td>\n",
       "      <td>0</td>\n",
       "      <td>66</td>\n",
       "      <td>01802705</td>\n",
       "      <td>GU</td>\n",
       "      <td>Guam</td>\n",
       "      <td>00</td>\n",
       "      <td>G4000</td>\n",
       "      <td>A</td>\n",
       "      <td>543555844</td>\n",
       "      <td>934337453</td>\n",
       "      <td>13.441745</td>\n",
       "      <td>144.771902</td>\n",
       "      <td>POINT(144.7719021 13.4417451)</td>\n",
       "      <td>POLYGON((144.563426 13.448065, 144.56355 13.44...</td>\n",
       "    </tr>\n",
       "    <tr>\n",
       "      <th>1</th>\n",
       "      <td>72</td>\n",
       "      <td>9</td>\n",
       "      <td>0</td>\n",
       "      <td>72</td>\n",
       "      <td>01779808</td>\n",
       "      <td>PR</td>\n",
       "      <td>Puerto Rico</td>\n",
       "      <td>00</td>\n",
       "      <td>G4000</td>\n",
       "      <td>A</td>\n",
       "      <td>8868701898</td>\n",
       "      <td>4922576715</td>\n",
       "      <td>18.217648</td>\n",
       "      <td>-66.410799</td>\n",
       "      <td>POINT(-66.4107992 18.217648)</td>\n",
       "      <td>MULTIPOLYGON(((-67.543025 18.386123, -67.54243...</td>\n",
       "    </tr>\n",
       "    <tr>\n",
       "      <th>2</th>\n",
       "      <td>69</td>\n",
       "      <td>9</td>\n",
       "      <td>0</td>\n",
       "      <td>69</td>\n",
       "      <td>01779809</td>\n",
       "      <td>MP</td>\n",
       "      <td>Commonwealth of the Northern Mariana Islands</td>\n",
       "      <td>00</td>\n",
       "      <td>G4000</td>\n",
       "      <td>A</td>\n",
       "      <td>472292529</td>\n",
       "      <td>4644252458</td>\n",
       "      <td>14.936784</td>\n",
       "      <td>145.601021</td>\n",
       "      <td>POINT(145.601021 14.9367835)</td>\n",
       "      <td>MULTIPOLYGON(((145.701166 16.724112, 145.70002...</td>\n",
       "    </tr>\n",
       "    <tr>\n",
       "      <th>3</th>\n",
       "      <td>78</td>\n",
       "      <td>9</td>\n",
       "      <td>0</td>\n",
       "      <td>78</td>\n",
       "      <td>01802710</td>\n",
       "      <td>VI</td>\n",
       "      <td>United States Virgin Islands</td>\n",
       "      <td>00</td>\n",
       "      <td>G4000</td>\n",
       "      <td>A</td>\n",
       "      <td>348021896</td>\n",
       "      <td>1550236199</td>\n",
       "      <td>18.326748</td>\n",
       "      <td>-64.971251</td>\n",
       "      <td>POINT(-64.9712508 18.326748)</td>\n",
       "      <td>MULTIPOLYGON(((-64.956714 17.678977, -64.95648...</td>\n",
       "    </tr>\n",
       "    <tr>\n",
       "      <th>4</th>\n",
       "      <td>60</td>\n",
       "      <td>9</td>\n",
       "      <td>0</td>\n",
       "      <td>60</td>\n",
       "      <td>01802701</td>\n",
       "      <td>AS</td>\n",
       "      <td>American Samoa</td>\n",
       "      <td>00</td>\n",
       "      <td>G4000</td>\n",
       "      <td>A</td>\n",
       "      <td>197759069</td>\n",
       "      <td>1307243751</td>\n",
       "      <td>-14.267159</td>\n",
       "      <td>-170.668267</td>\n",
       "      <td>POINT(-170.6682674 -14.267159)</td>\n",
       "      <td>MULTIPOLYGON(((-170.797156 -14.246637, -170.79...</td>\n",
       "    </tr>\n",
       "  </tbody>\n",
       "</table>\n",
       "</div>"
      ],
      "text/plain": [
       "  geo_id region_code division_code state_fips_code state_gnis_code state  \\\n",
       "0     66           9             0              66        01802705    GU   \n",
       "1     72           9             0              72        01779808    PR   \n",
       "2     69           9             0              69        01779809    MP   \n",
       "3     78           9             0              78        01802710    VI   \n",
       "4     60           9             0              60        01802701    AS   \n",
       "\n",
       "                                     state_name lsad_code  \\\n",
       "0                                          Guam        00   \n",
       "1                                   Puerto Rico        00   \n",
       "2  Commonwealth of the Northern Mariana Islands        00   \n",
       "3                  United States Virgin Islands        00   \n",
       "4                                American Samoa        00   \n",
       "\n",
       "  mtfcc_feature_class_code functional_status  area_land_meters  \\\n",
       "0                    G4000                 A         543555844   \n",
       "1                    G4000                 A        8868701898   \n",
       "2                    G4000                 A         472292529   \n",
       "3                    G4000                 A         348021896   \n",
       "4                    G4000                 A         197759069   \n",
       "\n",
       "   area_water_meters  int_point_lat  int_point_lon  \\\n",
       "0          934337453      13.441745     144.771902   \n",
       "1         4922576715      18.217648     -66.410799   \n",
       "2         4644252458      14.936784     145.601021   \n",
       "3         1550236199      18.326748     -64.971251   \n",
       "4         1307243751     -14.267159    -170.668267   \n",
       "\n",
       "                   int_point_geom  \\\n",
       "0   POINT(144.7719021 13.4417451)   \n",
       "1    POINT(-66.4107992 18.217648)   \n",
       "2    POINT(145.601021 14.9367835)   \n",
       "3    POINT(-64.9712508 18.326748)   \n",
       "4  POINT(-170.6682674 -14.267159)   \n",
       "\n",
       "                                          state_geom  \n",
       "0  POLYGON((144.563426 13.448065, 144.56355 13.44...  \n",
       "1  MULTIPOLYGON(((-67.543025 18.386123, -67.54243...  \n",
       "2  MULTIPOLYGON(((145.701166 16.724112, 145.70002...  \n",
       "3  MULTIPOLYGON(((-64.956714 17.678977, -64.95648...  \n",
       "4  MULTIPOLYGON(((-170.797156 -14.246637, -170.79...  "
      ]
     },
     "execution_count": 8,
     "metadata": {},
     "output_type": "execute_result"
    }
   ],
   "source": [
    "%%bigquery\n",
    "select *\n",
    "from bigquery-public-data.geo_us_boundaries.states\n",
    "limit 5"
   ]
  },
  {
   "cell_type": "code",
   "execution_count": 9,
   "id": "820f97b1-dfd0-439e-90f9-40aec8091231",
   "metadata": {},
   "outputs": [
    {
     "data": {
      "application/vnd.jupyter.widget-view+json": {
       "model_id": "d32d3c5eb58240568215d515e26b1e6f",
       "version_major": 2,
       "version_minor": 0
      },
      "text/plain": [
       "Query is running:   0%|          |"
      ]
     },
     "metadata": {},
     "output_type": "display_data"
    },
    {
     "data": {
      "application/vnd.jupyter.widget-view+json": {
       "model_id": "6cec893e1b10447f85896d05154399a5",
       "version_major": 2,
       "version_minor": 0
      },
      "text/plain": [
       "Downloading:   0%|          |"
      ]
     },
     "metadata": {},
     "output_type": "display_data"
    }
   ],
   "source": [
    "%%bigquery county_counts_df\n",
    "SELECT s.state, COUNT(c.county_fips_code) AS county_count\n",
    "FROM bigquery-public-data.geo_us_boundaries.counties c\n",
    "JOIN bigquery-public-data.geo_us_boundaries.states s\n",
    "ON c.state_fips_code = s.state_fips_code\n",
    "GROUP BY s.state\n",
    "ORDER BY county_count DESC\n",
    "LIMIT 5"
   ]
  },
  {
   "cell_type": "code",
   "execution_count": 10,
   "id": "53e45d80-5dbf-427a-92a2-bcc4d672337b",
   "metadata": {},
   "outputs": [
    {
     "data": {
      "text/plain": [
       "{'TX': 254, 'GA': 159, 'VA': 133, 'KY': 120, 'MO': 115}"
      ]
     },
     "execution_count": 10,
     "metadata": {},
     "output_type": "execute_result"
    }
   ],
   "source": [
    "#q2\n",
    "dict_list = county_counts_df.to_dict(orient='records')\n",
    "\n",
    "county_counts_dict = {}\n",
    "\n",
    "for entry in dict_list:\n",
    "    county_counts_dict[entry['state']] = entry['county_count']\n",
    "\n",
    "county_counts_dict"
   ]
  },
  {
   "cell_type": "code",
   "execution_count": 11,
   "id": "38576d37-29fd-4f9e-9d26-a924860b594f",
   "metadata": {},
   "outputs": [],
   "source": [
    "no_cache = bigquery.QueryJobConfig(use_query_cache=False)"
   ]
  },
  {
   "cell_type": "code",
   "execution_count": 12,
   "id": "b2605ca7-0d2d-45b1-87c5-58780352b5b3",
   "metadata": {},
   "outputs": [],
   "source": [
    "water = bq.query(\"\"\"\n",
    "select area_water_meters\n",
    "FROM bigquery-public-data.geo_us_boundaries.counties\n",
    "WHERE county_name = 'Dane'\n",
    "\"\"\", job_config=no_cache)"
   ]
  },
  {
   "cell_type": "code",
   "execution_count": 13,
   "id": "1a194811-4842-4656-8b4e-e52bfc7c0bdc",
   "metadata": {},
   "outputs": [],
   "source": [
    "count = bq.query(\"\"\"\n",
    "SELECT s.state, COUNT(c.county_fips_code) AS county_count\n",
    "FROM bigquery-public-data.geo_us_boundaries.counties c\n",
    "JOIN bigquery-public-data.geo_us_boundaries.states s\n",
    "ON c.state_fips_code = s.state_fips_code\n",
    "GROUP BY s.state\n",
    "ORDER BY county_count DESC\n",
    "LIMIT 5\n",
    "\"\"\", job_config=no_cache)"
   ]
  },
  {
   "cell_type": "code",
   "execution_count": 14,
   "id": "910be1d2-104e-481b-a3be-9193d12d4501",
   "metadata": {},
   "outputs": [
    {
     "data": {
      "text/plain": [
       "<bound method QueryJob.to_dataframe of QueryJob<project=cs544-412621, location=US, id=2002f5bd-902a-47c0-93b5-efe780159740>>"
      ]
     },
     "execution_count": 14,
     "metadata": {},
     "output_type": "execute_result"
    }
   ],
   "source": [
    "water.to_dataframe\n",
    "count.to_dataframe"
   ]
  },
  {
   "cell_type": "code",
   "execution_count": 15,
   "id": "e05c571f-366c-4f97-b33a-2f53f422c40a",
   "metadata": {},
   "outputs": [
    {
     "data": {
      "text/plain": [
       "{'q1': 5.9604644775390625e-05, 'q2': 0.00011920928955078125}"
      ]
     },
     "execution_count": 15,
     "metadata": {},
     "output_type": "execute_result"
    }
   ],
   "source": [
    "#q3\n",
    "prices = {}\n",
    "\n",
    "tb = 1024**4\n",
    "price_per_tb = 6.25\n",
    "\n",
    "prices['q1'] = water.total_bytes_billed / tb * price_per_tb\n",
    "prices['q2'] = count.total_bytes_billed / tb * price_per_tb\n",
    "prices"
   ]
  },
  {
   "cell_type": "code",
   "execution_count": 16,
   "id": "8895b6d5-c3f9-429e-88d3-c6841e8f9279",
   "metadata": {},
   "outputs": [],
   "source": [
    "project = \"cs544-412621\" "
   ]
  },
  {
   "cell_type": "code",
   "execution_count": 17,
   "id": "a003aa68-9488-4f0d-894e-818310e7adad",
   "metadata": {},
   "outputs": [
    {
     "data": {
      "text/plain": [
       "Dataset(DatasetReference('cs544-412621', 'p8'))"
      ]
     },
     "execution_count": 17,
     "metadata": {},
     "output_type": "execute_result"
    }
   ],
   "source": [
    "ds = bigquery.Dataset(f\"{project}.p8\")\n",
    "bq.create_dataset(ds, exists_ok=True)"
   ]
  },
  {
   "cell_type": "code",
   "execution_count": 18,
   "id": "78623889-35a5-41f6-aba7-0f7c3ad4df20",
   "metadata": {},
   "outputs": [
    {
     "data": {
      "text/plain": [
       "LoadJob<project=cs544-412621, location=US, id=bd721278-2457-4691-8102-87789bdeef71>"
      ]
     },
     "execution_count": 18,
     "metadata": {},
     "output_type": "execute_result"
    }
   ],
   "source": [
    "config = bigquery.LoadJobConfig(source_format=\"PARQUET\", write_disposition=\"WRITE_TRUNCATE\")\n",
    "source = \"gs://s24-lukee/hdma-wi-2021.parquet\"\n",
    "dataset = \"p8\"\n",
    "job = bq.load_table_from_uri(source, f\"{project}.{dataset}.hdma\", job_config=config)\n",
    "job.result()"
   ]
  },
  {
   "cell_type": "code",
   "execution_count": 19,
   "id": "22011428-d45f-4fa0-a158-62693867637e",
   "metadata": {},
   "outputs": [
    {
     "data": {
      "text/plain": [
       "['lec_demo', 'p8']"
      ]
     },
     "execution_count": 19,
     "metadata": {},
     "output_type": "execute_result"
    }
   ],
   "source": [
    "#q4\n",
    "[ds.dataset_id for ds in bq.list_datasets(project)]"
   ]
  },
  {
   "cell_type": "code",
   "execution_count": 20,
   "id": "88cf35b4-942a-4f11-ba51-eb111b743d52",
   "metadata": {},
   "outputs": [
    {
     "data": {
      "application/vnd.jupyter.widget-view+json": {
       "model_id": "a401ab5da35348a3a51a68870edae3ed",
       "version_major": 2,
       "version_minor": 0
      },
      "text/plain": [
       "Query is running:   0%|          |"
      ]
     },
     "metadata": {},
     "output_type": "display_data"
    },
    {
     "data": {
      "application/vnd.jupyter.widget-view+json": {
       "model_id": "dcfb9951869944f2a3ea5c6a0859db1a",
       "version_major": 2,
       "version_minor": 0
      },
      "text/plain": [
       "Downloading:   0%|          |"
      ]
     },
     "metadata": {},
     "output_type": "display_data"
    },
    {
     "data": {
      "text/html": [
       "<div>\n",
       "<style scoped>\n",
       "    .dataframe tbody tr th:only-of-type {\n",
       "        vertical-align: middle;\n",
       "    }\n",
       "\n",
       "    .dataframe tbody tr th {\n",
       "        vertical-align: top;\n",
       "    }\n",
       "\n",
       "    .dataframe thead th {\n",
       "        text-align: right;\n",
       "    }\n",
       "</style>\n",
       "<table border=\"1\" class=\"dataframe\">\n",
       "  <thead>\n",
       "    <tr style=\"text-align: right;\">\n",
       "      <th></th>\n",
       "      <th>state_code</th>\n",
       "      <th>county_code</th>\n",
       "      <th>census_tract</th>\n",
       "      <th>action_taken</th>\n",
       "      <th>loan_amount</th>\n",
       "      <th>interest_rate</th>\n",
       "      <th>loan_term</th>\n",
       "      <th>income</th>\n",
       "      <th>approved</th>\n",
       "      <th>dataset</th>\n",
       "      <th>index</th>\n",
       "    </tr>\n",
       "  </thead>\n",
       "  <tbody>\n",
       "    <tr>\n",
       "      <th>0</th>\n",
       "      <td>WI</td>\n",
       "      <td>None</td>\n",
       "      <td>None</td>\n",
       "      <td>1</td>\n",
       "      <td>125000.0</td>\n",
       "      <td>5.95</td>\n",
       "      <td>180.0</td>\n",
       "      <td>125000.0</td>\n",
       "      <td>True</td>\n",
       "      <td>train</td>\n",
       "      <td>25517</td>\n",
       "    </tr>\n",
       "    <tr>\n",
       "      <th>1</th>\n",
       "      <td>WI</td>\n",
       "      <td>None</td>\n",
       "      <td>None</td>\n",
       "      <td>1</td>\n",
       "      <td>35000.0</td>\n",
       "      <td>5.95</td>\n",
       "      <td>180.0</td>\n",
       "      <td>83000.0</td>\n",
       "      <td>True</td>\n",
       "      <td>test</td>\n",
       "      <td>25575</td>\n",
       "    </tr>\n",
       "    <tr>\n",
       "      <th>2</th>\n",
       "      <td>WI</td>\n",
       "      <td>None</td>\n",
       "      <td>None</td>\n",
       "      <td>2</td>\n",
       "      <td>285000.0</td>\n",
       "      <td>3.79</td>\n",
       "      <td>120.0</td>\n",
       "      <td>525000.0</td>\n",
       "      <td>False</td>\n",
       "      <td>train</td>\n",
       "      <td>59936</td>\n",
       "    </tr>\n",
       "    <tr>\n",
       "      <th>3</th>\n",
       "      <td>WI</td>\n",
       "      <td>None</td>\n",
       "      <td>None</td>\n",
       "      <td>2</td>\n",
       "      <td>135000.0</td>\n",
       "      <td>2.79</td>\n",
       "      <td>120.0</td>\n",
       "      <td>94000.0</td>\n",
       "      <td>False</td>\n",
       "      <td>train</td>\n",
       "      <td>59982</td>\n",
       "    </tr>\n",
       "    <tr>\n",
       "      <th>4</th>\n",
       "      <td>WI</td>\n",
       "      <td>None</td>\n",
       "      <td>None</td>\n",
       "      <td>2</td>\n",
       "      <td>35000.0</td>\n",
       "      <td>6.29</td>\n",
       "      <td>180.0</td>\n",
       "      <td>113000.0</td>\n",
       "      <td>False</td>\n",
       "      <td>train</td>\n",
       "      <td>60035</td>\n",
       "    </tr>\n",
       "  </tbody>\n",
       "</table>\n",
       "</div>"
      ],
      "text/plain": [
       "  state_code county_code census_tract  action_taken  loan_amount  \\\n",
       "0         WI        None         None             1     125000.0   \n",
       "1         WI        None         None             1      35000.0   \n",
       "2         WI        None         None             2     285000.0   \n",
       "3         WI        None         None             2     135000.0   \n",
       "4         WI        None         None             2      35000.0   \n",
       "\n",
       "   interest_rate  loan_term    income  approved dataset  index  \n",
       "0           5.95      180.0  125000.0      True   train  25517  \n",
       "1           5.95      180.0   83000.0      True    test  25575  \n",
       "2           3.79      120.0  525000.0     False   train  59936  \n",
       "3           2.79      120.0   94000.0     False   train  59982  \n",
       "4           6.29      180.0  113000.0     False   train  60035  "
      ]
     },
     "execution_count": 20,
     "metadata": {},
     "output_type": "execute_result"
    }
   ],
   "source": [
    "%%bigquery\n",
    "SELECT * \n",
    "FROM p8.hdma\n",
    "LIMIT 5"
   ]
  },
  {
   "cell_type": "code",
   "execution_count": 21,
   "id": "704ac17b-8c8d-45e7-9b55-f396fee79744",
   "metadata": {},
   "outputs": [
    {
     "data": {
      "application/vnd.jupyter.widget-view+json": {
       "model_id": "c6c202a67af8428f972922fd243fe013",
       "version_major": 2,
       "version_minor": 0
      },
      "text/plain": [
       "Query is running:   0%|          |"
      ]
     },
     "metadata": {},
     "output_type": "display_data"
    },
    {
     "data": {
      "application/vnd.jupyter.widget-view+json": {
       "model_id": "8142f46a296e4851a16f16402ca91409",
       "version_major": 2,
       "version_minor": 0
      },
      "text/plain": [
       "Downloading:   0%|          |"
      ]
     },
     "metadata": {},
     "output_type": "display_data"
    }
   ],
   "source": [
    "%%bigquery loans_df\n",
    "SELECT c.county_name, COUNT(h.action_taken) AS loan_count\n",
    "FROM p8.hdma h\n",
    "JOIN bigquery-public-data.geo_us_boundaries.counties c\n",
    "ON h.county_code = c.county_fips_code\n",
    "GROUP BY c.county_name\n",
    "ORDER BY loan_count DESC\n",
    "LIMIT 10"
   ]
  },
  {
   "cell_type": "code",
   "execution_count": 22,
   "id": "2f7d1ff8-4639-456e-b47c-76ad185d4585",
   "metadata": {
    "scrolled": true
   },
   "outputs": [
    {
     "data": {
      "text/plain": [
       "{'Milwaukee': 46570,\n",
       " 'Dane': 38557,\n",
       " 'Waukesha': 34159,\n",
       " 'Brown': 15615,\n",
       " 'Racine': 13007,\n",
       " 'Outagamie': 11523,\n",
       " 'Kenosha': 10744,\n",
       " 'Washington': 10726,\n",
       " 'Rock': 9834,\n",
       " 'Winnebago': 9310}"
      ]
     },
     "execution_count": 22,
     "metadata": {},
     "output_type": "execute_result"
    }
   ],
   "source": [
    "#q5\n",
    "dict_list = loans_df.to_dict(orient='records')\n",
    "\n",
    "loans_dict = {}\n",
    "\n",
    "for entry in dict_list:\n",
    "    loans_dict[entry['county_name']] = entry['loan_count']\n",
    "\n",
    "loans_dict"
   ]
  },
  {
   "cell_type": "code",
   "execution_count": 23,
   "id": "944d4738-c795-473a-a8a5-00187521504e",
   "metadata": {},
   "outputs": [],
   "source": [
    "url = \"https://docs.google.com/spreadsheets/d/1FfalqAWdzz01D1zIvBxsDWLW05-lvANWjjAj2vI4A04/\"\n",
    "\n",
    "external_config = bigquery.ExternalConfig(\"GOOGLE_SHEETS\")\n",
    "external_config.source_uris = [url]\n",
    "external_config.options.skip_leading_rows = 1\n",
    "external_config.autodetect = True\n",
    "\n",
    "table = bigquery.Table(f\"{project}.{dataset}.applications\")\n",
    "table.external_data_configuration = external_config\n",
    "\n",
    "table = bq.create_table(table, exists_ok=True)"
   ]
  },
  {
   "cell_type": "code",
   "execution_count": 24,
   "id": "4b0576af-770a-406f-adcb-971c0470c6d8",
   "metadata": {},
   "outputs": [
    {
     "data": {
      "application/vnd.jupyter.widget-view+json": {
       "model_id": "d6d5c2b0f8e945dd946eced8f1bb0257",
       "version_major": 2,
       "version_minor": 0
      },
      "text/plain": [
       "Query is running:   0%|          |"
      ]
     },
     "metadata": {},
     "output_type": "display_data"
    },
    {
     "data": {
      "application/vnd.jupyter.widget-view+json": {
       "model_id": "3131c49b178d414a8ce5b95f26489a95",
       "version_major": 2,
       "version_minor": 0
      },
      "text/plain": [
       "Downloading:   0%|          |"
      ]
     },
     "metadata": {},
     "output_type": "display_data"
    },
    {
     "data": {
      "text/html": [
       "<div>\n",
       "<style scoped>\n",
       "    .dataframe tbody tr th:only-of-type {\n",
       "        vertical-align: middle;\n",
       "    }\n",
       "\n",
       "    .dataframe tbody tr th {\n",
       "        vertical-align: top;\n",
       "    }\n",
       "\n",
       "    .dataframe thead th {\n",
       "        text-align: right;\n",
       "    }\n",
       "</style>\n",
       "<table border=\"1\" class=\"dataframe\">\n",
       "  <thead>\n",
       "    <tr style=\"text-align: right;\">\n",
       "      <th></th>\n",
       "      <th>Timestamp</th>\n",
       "      <th>loan_amount</th>\n",
       "      <th>income</th>\n",
       "      <th>latitude</th>\n",
       "      <th>longitude</th>\n",
       "    </tr>\n",
       "  </thead>\n",
       "  <tbody>\n",
       "    <tr>\n",
       "      <th>0</th>\n",
       "      <td>2024-04-21 01:31:15.331000+00:00</td>\n",
       "      <td>100000</td>\n",
       "      <td>10000</td>\n",
       "      <td>43.069646</td>\n",
       "      <td>-89.753298</td>\n",
       "    </tr>\n",
       "    <tr>\n",
       "      <th>1</th>\n",
       "      <td>2024-04-21 01:31:36.357000+00:00</td>\n",
       "      <td>200000</td>\n",
       "      <td>20000</td>\n",
       "      <td>45.058784</td>\n",
       "      <td>-87.665404</td>\n",
       "    </tr>\n",
       "    <tr>\n",
       "      <th>2</th>\n",
       "      <td>2024-04-21 01:31:56.505000+00:00</td>\n",
       "      <td>200000</td>\n",
       "      <td>20000</td>\n",
       "      <td>45.000711</td>\n",
       "      <td>-87.229077</td>\n",
       "    </tr>\n",
       "    <tr>\n",
       "      <th>3</th>\n",
       "      <td>2024-04-21 01:31:15+00:00</td>\n",
       "      <td>150000</td>\n",
       "      <td>20000</td>\n",
       "      <td>43.006125</td>\n",
       "      <td>-88.846895</td>\n",
       "    </tr>\n",
       "    <tr>\n",
       "      <th>4</th>\n",
       "      <td>2024-04-21 01:31:15+00:00</td>\n",
       "      <td>210000</td>\n",
       "      <td>25000</td>\n",
       "      <td>46.815340</td>\n",
       "      <td>-90.829876</td>\n",
       "    </tr>\n",
       "  </tbody>\n",
       "</table>\n",
       "</div>"
      ],
      "text/plain": [
       "                         Timestamp  loan_amount  income   latitude  longitude\n",
       "0 2024-04-21 01:31:15.331000+00:00       100000   10000  43.069646 -89.753298\n",
       "1 2024-04-21 01:31:36.357000+00:00       200000   20000  45.058784 -87.665404\n",
       "2 2024-04-21 01:31:56.505000+00:00       200000   20000  45.000711 -87.229077\n",
       "3        2024-04-21 01:31:15+00:00       150000   20000  43.006125 -88.846895\n",
       "4        2024-04-21 01:31:15+00:00       210000   25000  46.815340 -90.829876"
      ]
     },
     "execution_count": 24,
     "metadata": {},
     "output_type": "execute_result"
    }
   ],
   "source": [
    "%%bigquery\n",
    "SELECT *\n",
    "FROM `p8.applications`\n",
    "LIMIT 5"
   ]
  },
  {
   "cell_type": "code",
   "execution_count": 25,
   "id": "43b259d9-80f7-4b28-b1e2-bdc03eb2ab7f",
   "metadata": {},
   "outputs": [
    {
     "data": {
      "application/vnd.jupyter.widget-view+json": {
       "model_id": "8b8d517dc9304e6cb08a95d432a06695",
       "version_major": 2,
       "version_minor": 0
      },
      "text/plain": [
       "Query is running:   0%|          |"
      ]
     },
     "metadata": {},
     "output_type": "display_data"
    },
    {
     "data": {
      "application/vnd.jupyter.widget-view+json": {
       "model_id": "62ab803abc894a80b19ae9501ca47190",
       "version_major": 2,
       "version_minor": 0
      },
      "text/plain": [
       "Downloading:   0%|          |"
      ]
     },
     "metadata": {},
     "output_type": "display_data"
    }
   ],
   "source": [
    "%%bigquery my_income_df\n",
    "SELECT count(*) AS my_income_count\n",
    "FROM p8.applications\n",
    "WHERE income = 500000"
   ]
  },
  {
   "cell_type": "code",
   "execution_count": 26,
   "id": "2fcea3cc-8751-433c-9d63-24e87815656f",
   "metadata": {},
   "outputs": [
    {
     "data": {
      "text/plain": [
       "9"
      ]
     },
     "execution_count": 26,
     "metadata": {},
     "output_type": "execute_result"
    }
   ],
   "source": [
    "#q6\n",
    "my_income_df['my_income_count'][0]"
   ]
  },
  {
   "cell_type": "code",
   "execution_count": 27,
   "id": "606ce313-a291-4c67-a3f0-4025d3e3c5d5",
   "metadata": {},
   "outputs": [
    {
     "data": {
      "application/vnd.jupyter.widget-view+json": {
       "model_id": "e3509afdf4e64d8480132476e32644c8",
       "version_major": 2,
       "version_minor": 0
      },
      "text/plain": [
       "Query is running:   0%|          |"
      ]
     },
     "metadata": {},
     "output_type": "display_data"
    },
    {
     "data": {
      "application/vnd.jupyter.widget-view+json": {
       "model_id": "1d134a6e51f14e3987aa3fa2b8f859e5",
       "version_major": 2,
       "version_minor": 0
      },
      "text/plain": [
       "Downloading:   0%|          |"
      ]
     },
     "metadata": {},
     "output_type": "display_data"
    },
    {
     "data": {
      "text/html": [
       "<div>\n",
       "<style scoped>\n",
       "    .dataframe tbody tr th:only-of-type {\n",
       "        vertical-align: middle;\n",
       "    }\n",
       "\n",
       "    .dataframe tbody tr th {\n",
       "        vertical-align: top;\n",
       "    }\n",
       "\n",
       "    .dataframe thead th {\n",
       "        text-align: right;\n",
       "    }\n",
       "</style>\n",
       "<table border=\"1\" class=\"dataframe\">\n",
       "  <thead>\n",
       "    <tr style=\"text-align: right;\">\n",
       "      <th></th>\n",
       "      <th>county_geom</th>\n",
       "    </tr>\n",
       "  </thead>\n",
       "  <tbody>\n",
       "    <tr>\n",
       "      <th>0</th>\n",
       "      <td>POLYGON((-90.925417 46.587301, -90.924712 46.5...</td>\n",
       "    </tr>\n",
       "    <tr>\n",
       "      <th>1</th>\n",
       "      <td>POLYGON((-87.432419 45.111772, -87.439231 45.0...</td>\n",
       "    </tr>\n",
       "    <tr>\n",
       "      <th>2</th>\n",
       "      <td>POLYGON((-91.166006 44.335102, -91.165998 44.3...</td>\n",
       "    </tr>\n",
       "    <tr>\n",
       "      <th>3</th>\n",
       "      <td>POLYGON((-90.668478 43.466273, -90.668478 43.4...</td>\n",
       "    </tr>\n",
       "    <tr>\n",
       "      <th>4</th>\n",
       "      <td>POLYGON((-92.760909 45.81664, -92.759938 45.81...</td>\n",
       "    </tr>\n",
       "    <tr>\n",
       "      <th>...</th>\n",
       "      <td>...</td>\n",
       "    </tr>\n",
       "    <tr>\n",
       "      <th>67</th>\n",
       "      <td>POLYGON((-89.012343 43.023489, -89.012346 43.0...</td>\n",
       "    </tr>\n",
       "    <tr>\n",
       "      <th>68</th>\n",
       "      <td>POLYGON((-90.316574 44.953278, -90.316576 44.9...</td>\n",
       "    </tr>\n",
       "    <tr>\n",
       "      <th>69</th>\n",
       "      <td>POLYGON((-90.042787 45.4676, -90.04279 45.4667...</td>\n",
       "    </tr>\n",
       "    <tr>\n",
       "      <th>70</th>\n",
       "      <td>POLYGON((-88.69812 42.842634, -88.698507 42.84...</td>\n",
       "    </tr>\n",
       "    <tr>\n",
       "      <th>71</th>\n",
       "      <td>POLYGON((-90.315664 44.512775, -90.315757 44.5...</td>\n",
       "    </tr>\n",
       "  </tbody>\n",
       "</table>\n",
       "<p>72 rows × 1 columns</p>\n",
       "</div>"
      ],
      "text/plain": [
       "                                          county_geom\n",
       "0   POLYGON((-90.925417 46.587301, -90.924712 46.5...\n",
       "1   POLYGON((-87.432419 45.111772, -87.439231 45.0...\n",
       "2   POLYGON((-91.166006 44.335102, -91.165998 44.3...\n",
       "3   POLYGON((-90.668478 43.466273, -90.668478 43.4...\n",
       "4   POLYGON((-92.760909 45.81664, -92.759938 45.81...\n",
       "..                                                ...\n",
       "67  POLYGON((-89.012343 43.023489, -89.012346 43.0...\n",
       "68  POLYGON((-90.316574 44.953278, -90.316576 44.9...\n",
       "69  POLYGON((-90.042787 45.4676, -90.04279 45.4667...\n",
       "70  POLYGON((-88.69812 42.842634, -88.698507 42.84...\n",
       "71  POLYGON((-90.315664 44.512775, -90.315757 44.5...\n",
       "\n",
       "[72 rows x 1 columns]"
      ]
     },
     "execution_count": 27,
     "metadata": {},
     "output_type": "execute_result"
    }
   ],
   "source": [
    "%%bigquery\n",
    "SELECT county_geom\n",
    "FROM bigquery-public-data.geo_us_boundaries.counties\n",
    "WHERE state_fips_code = '55'"
   ]
  },
  {
   "cell_type": "code",
   "execution_count": 28,
   "id": "7044ff4a-7350-4484-92cd-1341033bc0f6",
   "metadata": {},
   "outputs": [
    {
     "data": {
      "application/vnd.jupyter.widget-view+json": {
       "model_id": "99c1243c66664764868d702214037e8d",
       "version_major": 2,
       "version_minor": 0
      },
      "text/plain": [
       "Query is running:   0%|          |"
      ]
     },
     "metadata": {},
     "output_type": "display_data"
    },
    {
     "data": {
      "application/vnd.jupyter.widget-view+json": {
       "model_id": "c7e837d096e14b5cadc62780f9ca0566",
       "version_major": 2,
       "version_minor": 0
      },
      "text/plain": [
       "Downloading:   0%|          |"
      ]
     },
     "metadata": {},
     "output_type": "display_data"
    }
   ],
   "source": [
    "%%bigquery applications_df\n",
    "SELECT c.county_name, COUNT(*) AS application_count\n",
    "FROM p8.applications a\n",
    "JOIN bigquery-public-data.geo_us_boundaries.counties c\n",
    "ON ST_CONTAINS(c.county_geom, ST_GEOGPOINT(a.longitude, a.latitude))\n",
    "WHERE c.state_fips_code = '55'\n",
    "GROUP BY c.county_name"
   ]
  },
  {
   "cell_type": "code",
   "execution_count": 29,
   "id": "5d831696-c26b-4ed5-9fde-821278caddc0",
   "metadata": {},
   "outputs": [
    {
     "data": {
      "text/plain": [
       "{'Douglas': 2,\n",
       " 'Door': 12,\n",
       " 'Dane': 57,\n",
       " 'Walworth': 8,\n",
       " 'Jefferson': 4,\n",
       " 'Milwaukee': 8,\n",
       " 'Kewaunee': 1,\n",
       " 'Bayfield': 3,\n",
       " 'Monroe': 2,\n",
       " 'Winnebago': 3,\n",
       " 'Oneida': 3,\n",
       " 'Waupaca': 2,\n",
       " 'Sheboygan': 3,\n",
       " 'Waukesha': 1,\n",
       " 'Barron': 1,\n",
       " 'Fond du Lac': 1,\n",
       " 'Marathon': 1,\n",
       " 'Sauk': 2,\n",
       " 'Manitowoc': 2,\n",
       " 'Brown': 4,\n",
       " 'Marinette': 3,\n",
       " 'Vilas': 1,\n",
       " 'Portage': 1,\n",
       " 'Columbia': 2,\n",
       " 'Ashland': 1,\n",
       " 'Juneau': 1,\n",
       " 'Green Lake': 1,\n",
       " 'Outagamie': 2,\n",
       " 'Florence': 1,\n",
       " 'Clark': 1,\n",
       " 'Iron': 1}"
      ]
     },
     "execution_count": 29,
     "metadata": {},
     "output_type": "execute_result"
    }
   ],
   "source": [
    "#q7\n",
    "dict_list = applications_df.to_dict(orient='records')\n",
    "\n",
    "applications_dict = {}\n",
    "\n",
    "for entry in dict_list:\n",
    "    applications_dict[entry['county_name']] = entry['application_count']\n",
    "\n",
    "applications_dict"
   ]
  },
  {
   "cell_type": "code",
   "execution_count": 30,
   "id": "6389ee49-0b32-4072-9364-dfe56326fdfb",
   "metadata": {},
   "outputs": [
    {
     "data": {
      "application/vnd.jupyter.widget-view+json": {
       "model_id": "9183b85290a84ac5886f0be24bb77534",
       "version_major": 2,
       "version_minor": 0
      },
      "text/plain": [
       "Query is running:   0%|          |"
      ]
     },
     "metadata": {},
     "output_type": "display_data"
    },
    {
     "data": {
      "text/html": [
       "<div>\n",
       "<style scoped>\n",
       "    .dataframe tbody tr th:only-of-type {\n",
       "        vertical-align: middle;\n",
       "    }\n",
       "\n",
       "    .dataframe tbody tr th {\n",
       "        vertical-align: top;\n",
       "    }\n",
       "\n",
       "    .dataframe thead th {\n",
       "        text-align: right;\n",
       "    }\n",
       "</style>\n",
       "<table border=\"1\" class=\"dataframe\">\n",
       "  <thead>\n",
       "    <tr style=\"text-align: right;\">\n",
       "      <th></th>\n",
       "    </tr>\n",
       "  </thead>\n",
       "  <tbody>\n",
       "  </tbody>\n",
       "</table>\n",
       "</div>"
      ],
      "text/plain": [
       "Empty DataFrame\n",
       "Columns: []\n",
       "Index: []"
      ]
     },
     "execution_count": 30,
     "metadata": {},
     "output_type": "execute_result"
    }
   ],
   "source": [
    "%%bigquery\n",
    "CREATE OR REPLACE MODEL `p8.lr`\n",
    "OPTIONS(model_type='LINEAR_REG', INPUT_LABEL_COLS=[\"loan_amount\"]) AS\n",
    "SELECT income, loan_term, loan_amount\n",
    "FROM p8.hdma\n",
    "WHERE dataset = 'train'"
   ]
  },
  {
   "cell_type": "code",
   "execution_count": 31,
   "id": "a8f64430-79c3-45d3-9851-361327721de6",
   "metadata": {},
   "outputs": [
    {
     "data": {
      "application/vnd.jupyter.widget-view+json": {
       "model_id": "e116a28bc5b445fdb51bc2a7e02cffb5",
       "version_major": 2,
       "version_minor": 0
      },
      "text/plain": [
       "Query is running:   0%|          |"
      ]
     },
     "metadata": {},
     "output_type": "display_data"
    },
    {
     "data": {
      "application/vnd.jupyter.widget-view+json": {
       "model_id": "d6b6e4bfa6ad41aa8b1b68f4ade154a2",
       "version_major": 2,
       "version_minor": 0
      },
      "text/plain": [
       "Downloading:   0%|          |"
      ]
     },
     "metadata": {},
     "output_type": "display_data"
    }
   ],
   "source": [
    "%%bigquery test\n",
    "SELECT *\n",
    "FROM ML.PREDICT(MODEL p8.lr, (\n",
    "    select income, loan_term, loan_amount \n",
    "    from p8.hdma\n",
    "    where dataset = 'test'\n",
    "))"
   ]
  },
  {
   "cell_type": "code",
   "execution_count": 32,
   "id": "88445547-8bb5-4243-a773-11bdac235a8b",
   "metadata": {},
   "outputs": [
    {
     "data": {
      "text/html": [
       "<div>\n",
       "<style scoped>\n",
       "    .dataframe tbody tr th:only-of-type {\n",
       "        vertical-align: middle;\n",
       "    }\n",
       "\n",
       "    .dataframe tbody tr th {\n",
       "        vertical-align: top;\n",
       "    }\n",
       "\n",
       "    .dataframe thead th {\n",
       "        text-align: right;\n",
       "    }\n",
       "</style>\n",
       "<table border=\"1\" class=\"dataframe\">\n",
       "  <thead>\n",
       "    <tr style=\"text-align: right;\">\n",
       "      <th></th>\n",
       "      <th>predicted_loan_amount</th>\n",
       "      <th>income</th>\n",
       "      <th>loan_term</th>\n",
       "      <th>loan_amount</th>\n",
       "    </tr>\n",
       "  </thead>\n",
       "  <tbody>\n",
       "    <tr>\n",
       "      <th>0</th>\n",
       "      <td>190869.128625</td>\n",
       "      <td>153000.0</td>\n",
       "      <td>180.0</td>\n",
       "      <td>165000.0</td>\n",
       "    </tr>\n",
       "    <tr>\n",
       "      <th>1</th>\n",
       "      <td>302472.158923</td>\n",
       "      <td>206000.0</td>\n",
       "      <td>360.0</td>\n",
       "      <td>275000.0</td>\n",
       "    </tr>\n",
       "    <tr>\n",
       "      <th>2</th>\n",
       "      <td>241796.332915</td>\n",
       "      <td>131000.0</td>\n",
       "      <td>360.0</td>\n",
       "      <td>25000.0</td>\n",
       "    </tr>\n",
       "    <tr>\n",
       "      <th>3</th>\n",
       "      <td>241796.332915</td>\n",
       "      <td>131000.0</td>\n",
       "      <td>360.0</td>\n",
       "      <td>225000.0</td>\n",
       "    </tr>\n",
       "    <tr>\n",
       "      <th>4</th>\n",
       "      <td>259594.575211</td>\n",
       "      <td>153000.0</td>\n",
       "      <td>360.0</td>\n",
       "      <td>405000.0</td>\n",
       "    </tr>\n",
       "    <tr>\n",
       "      <th>...</th>\n",
       "      <td>...</td>\n",
       "      <td>...</td>\n",
       "      <td>...</td>\n",
       "      <td>...</td>\n",
       "    </tr>\n",
       "    <tr>\n",
       "      <th>69950</th>\n",
       "      <td>191637.650082</td>\n",
       "      <td>69000.0</td>\n",
       "      <td>360.0</td>\n",
       "      <td>235000.0</td>\n",
       "    </tr>\n",
       "    <tr>\n",
       "      <th>69951</th>\n",
       "      <td>191637.650082</td>\n",
       "      <td>69000.0</td>\n",
       "      <td>360.0</td>\n",
       "      <td>245000.0</td>\n",
       "    </tr>\n",
       "    <tr>\n",
       "      <th>69952</th>\n",
       "      <td>191637.650082</td>\n",
       "      <td>69000.0</td>\n",
       "      <td>360.0</td>\n",
       "      <td>215000.0</td>\n",
       "    </tr>\n",
       "    <tr>\n",
       "      <th>69953</th>\n",
       "      <td>191637.650082</td>\n",
       "      <td>69000.0</td>\n",
       "      <td>360.0</td>\n",
       "      <td>145000.0</td>\n",
       "    </tr>\n",
       "    <tr>\n",
       "      <th>69954</th>\n",
       "      <td>191637.650082</td>\n",
       "      <td>69000.0</td>\n",
       "      <td>360.0</td>\n",
       "      <td>105000.0</td>\n",
       "    </tr>\n",
       "  </tbody>\n",
       "</table>\n",
       "<p>69955 rows × 4 columns</p>\n",
       "</div>"
      ],
      "text/plain": [
       "       predicted_loan_amount    income  loan_term  loan_amount\n",
       "0              190869.128625  153000.0      180.0     165000.0\n",
       "1              302472.158923  206000.0      360.0     275000.0\n",
       "2              241796.332915  131000.0      360.0      25000.0\n",
       "3              241796.332915  131000.0      360.0     225000.0\n",
       "4              259594.575211  153000.0      360.0     405000.0\n",
       "...                      ...       ...        ...          ...\n",
       "69950          191637.650082   69000.0      360.0     235000.0\n",
       "69951          191637.650082   69000.0      360.0     245000.0\n",
       "69952          191637.650082   69000.0      360.0     215000.0\n",
       "69953          191637.650082   69000.0      360.0     145000.0\n",
       "69954          191637.650082   69000.0      360.0     105000.0\n",
       "\n",
       "[69955 rows x 4 columns]"
      ]
     },
     "execution_count": 32,
     "metadata": {},
     "output_type": "execute_result"
    }
   ],
   "source": [
    "test"
   ]
  },
  {
   "cell_type": "code",
   "execution_count": 33,
   "id": "4ee3057a-7f06-4920-9ff3-64aee61837b2",
   "metadata": {},
   "outputs": [
    {
     "data": {
      "text/plain": [
       "77294.6840846409"
      ]
     },
     "execution_count": 33,
     "metadata": {},
     "output_type": "execute_result"
    }
   ],
   "source": [
    "#q8\n",
    "mae = 0\n",
    "for index, row in test.iterrows():\n",
    "    mae += abs(row['predicted_loan_amount'] - row['loan_amount'])\n",
    "mae /= len(test)\n",
    "mae"
   ]
  },
  {
   "cell_type": "code",
   "execution_count": 34,
   "id": "74004eb0-0a36-465d-aa5c-29913b8dd36e",
   "metadata": {},
   "outputs": [
    {
     "data": {
      "application/vnd.jupyter.widget-view+json": {
       "model_id": "4170fb87ac954f72b2cf46a0f4f2f13a",
       "version_major": 2,
       "version_minor": 0
      },
      "text/plain": [
       "Query is running:   0%|          |"
      ]
     },
     "metadata": {},
     "output_type": "display_data"
    },
    {
     "data": {
      "application/vnd.jupyter.widget-view+json": {
       "model_id": "0e663d8fec594cb1814fb7f11598c892",
       "version_major": 2,
       "version_minor": 0
      },
      "text/plain": [
       "Downloading:   0%|          |"
      ]
     },
     "metadata": {},
     "output_type": "display_data"
    }
   ],
   "source": [
    "%%bigquery weights\n",
    "SELECT *\n",
    "FROM ML.WEIGHTS(MODEL p8.lr)"
   ]
  },
  {
   "cell_type": "code",
   "execution_count": 35,
   "id": "d7f7be15-178a-44ee-b204-5d3b452e8ce9",
   "metadata": {},
   "outputs": [
    {
     "data": {
      "text/html": [
       "<div>\n",
       "<style scoped>\n",
       "    .dataframe tbody tr th:only-of-type {\n",
       "        vertical-align: middle;\n",
       "    }\n",
       "\n",
       "    .dataframe tbody tr th {\n",
       "        vertical-align: top;\n",
       "    }\n",
       "\n",
       "    .dataframe thead th {\n",
       "        text-align: right;\n",
       "    }\n",
       "</style>\n",
       "<table border=\"1\" class=\"dataframe\">\n",
       "  <thead>\n",
       "    <tr style=\"text-align: right;\">\n",
       "      <th></th>\n",
       "      <th>processed_input</th>\n",
       "      <th>weight</th>\n",
       "      <th>category_weights</th>\n",
       "    </tr>\n",
       "  </thead>\n",
       "  <tbody>\n",
       "    <tr>\n",
       "      <th>0</th>\n",
       "      <td>income</td>\n",
       "      <td>0.809011</td>\n",
       "      <td>[]</td>\n",
       "    </tr>\n",
       "    <tr>\n",
       "      <th>1</th>\n",
       "      <td>loan_term</td>\n",
       "      <td>381.808037</td>\n",
       "      <td>[]</td>\n",
       "    </tr>\n",
       "    <tr>\n",
       "      <th>2</th>\n",
       "      <td>__INTERCEPT__</td>\n",
       "      <td>-1635.003017</td>\n",
       "      <td>[]</td>\n",
       "    </tr>\n",
       "  </tbody>\n",
       "</table>\n",
       "</div>"
      ],
      "text/plain": [
       "  processed_input       weight category_weights\n",
       "0          income     0.809011               []\n",
       "1       loan_term   381.808037               []\n",
       "2   __INTERCEPT__ -1635.003017               []"
      ]
     },
     "execution_count": 35,
     "metadata": {},
     "output_type": "execute_result"
    }
   ],
   "source": [
    "weights"
   ]
  },
  {
   "cell_type": "code",
   "execution_count": 36,
   "id": "c5f3d3eb-b739-4cd5-aa76-daf7842fe66f",
   "metadata": {},
   "outputs": [
    {
     "data": {
      "text/plain": [
       "381.80803658769094"
      ]
     },
     "execution_count": 36,
     "metadata": {},
     "output_type": "execute_result"
    }
   ],
   "source": [
    "#q9\n",
    "weights['weight'][1]"
   ]
  },
  {
   "cell_type": "code",
   "execution_count": 37,
   "id": "de9039be-6b67-4126-aa1b-c784113330b5",
   "metadata": {},
   "outputs": [
    {
     "data": {
      "application/vnd.jupyter.widget-view+json": {
       "model_id": "24b5c2bb2e444547b9f0740d1479d656",
       "version_major": 2,
       "version_minor": 0
      },
      "text/plain": [
       "Query is running:   0%|          |"
      ]
     },
     "metadata": {},
     "output_type": "display_data"
    },
    {
     "data": {
      "application/vnd.jupyter.widget-view+json": {
       "model_id": "dafb35ac89d04d48a38004a1818766ac",
       "version_major": 2,
       "version_minor": 0
      },
      "text/plain": [
       "Downloading:   0%|          |"
      ]
     },
     "metadata": {},
     "output_type": "display_data"
    }
   ],
   "source": [
    "%%bigquery form\n",
    "SELECT loan_amount, income\n",
    "FROM p8.applications"
   ]
  },
  {
   "cell_type": "code",
   "execution_count": 38,
   "id": "563af71f-48e6-4b71-91ac-dad858b3ec0e",
   "metadata": {},
   "outputs": [
    {
     "data": {
      "text/html": [
       "<div>\n",
       "<style scoped>\n",
       "    .dataframe tbody tr th:only-of-type {\n",
       "        vertical-align: middle;\n",
       "    }\n",
       "\n",
       "    .dataframe tbody tr th {\n",
       "        vertical-align: top;\n",
       "    }\n",
       "\n",
       "    .dataframe thead th {\n",
       "        text-align: right;\n",
       "    }\n",
       "</style>\n",
       "<table border=\"1\" class=\"dataframe\">\n",
       "  <thead>\n",
       "    <tr style=\"text-align: right;\">\n",
       "      <th></th>\n",
       "      <th>loan_amount</th>\n",
       "      <th>income</th>\n",
       "    </tr>\n",
       "  </thead>\n",
       "  <tbody>\n",
       "    <tr>\n",
       "      <th>0</th>\n",
       "      <td>100000</td>\n",
       "      <td>10000</td>\n",
       "    </tr>\n",
       "    <tr>\n",
       "      <th>1</th>\n",
       "      <td>200000</td>\n",
       "      <td>20000</td>\n",
       "    </tr>\n",
       "    <tr>\n",
       "      <th>2</th>\n",
       "      <td>200000</td>\n",
       "      <td>20000</td>\n",
       "    </tr>\n",
       "    <tr>\n",
       "      <th>3</th>\n",
       "      <td>150000</td>\n",
       "      <td>20000</td>\n",
       "    </tr>\n",
       "    <tr>\n",
       "      <th>4</th>\n",
       "      <td>210000</td>\n",
       "      <td>25000</td>\n",
       "    </tr>\n",
       "    <tr>\n",
       "      <th>...</th>\n",
       "      <td>...</td>\n",
       "      <td>...</td>\n",
       "    </tr>\n",
       "    <tr>\n",
       "      <th>209</th>\n",
       "      <td>400000</td>\n",
       "      <td>200000</td>\n",
       "    </tr>\n",
       "    <tr>\n",
       "      <th>210</th>\n",
       "      <td>3000000</td>\n",
       "      <td>100000</td>\n",
       "    </tr>\n",
       "    <tr>\n",
       "      <th>211</th>\n",
       "      <td>200000</td>\n",
       "      <td>120000</td>\n",
       "    </tr>\n",
       "    <tr>\n",
       "      <th>212</th>\n",
       "      <td>320000</td>\n",
       "      <td>150000</td>\n",
       "    </tr>\n",
       "    <tr>\n",
       "      <th>213</th>\n",
       "      <td>320000</td>\n",
       "      <td>120000</td>\n",
       "    </tr>\n",
       "  </tbody>\n",
       "</table>\n",
       "<p>214 rows × 2 columns</p>\n",
       "</div>"
      ],
      "text/plain": [
       "     loan_amount  income\n",
       "0         100000   10000\n",
       "1         200000   20000\n",
       "2         200000   20000\n",
       "3         150000   20000\n",
       "4         210000   25000\n",
       "..           ...     ...\n",
       "209       400000  200000\n",
       "210      3000000  100000\n",
       "211       200000  120000\n",
       "212       320000  150000\n",
       "213       320000  120000\n",
       "\n",
       "[214 rows x 2 columns]"
      ]
     },
     "execution_count": 38,
     "metadata": {},
     "output_type": "execute_result"
    }
   ],
   "source": [
    "form"
   ]
  },
  {
   "cell_type": "code",
   "execution_count": 39,
   "id": "a43d973e-aeb9-4d00-a062-940860d14569",
   "metadata": {},
   "outputs": [
    {
     "data": {
      "text/plain": [
       "0.7757009345794392"
      ]
     },
     "execution_count": 39,
     "metadata": {},
     "output_type": "execute_result"
    }
   ],
   "source": [
    "#q10\n",
    "count = 0\n",
    "for index, row in form.iterrows():\n",
    "    predicted = weights['weight'][0] * row['income'] + weights['weight'][1] * 30 + weights['weight'][2]\n",
    "    actual = row['loan_amount']\n",
    "    if actual > predicted:\n",
    "        count += 1\n",
    "\n",
    "ratio = count / len(form)\n",
    "ratio"
   ]
  }
 ],
 "metadata": {
  "kernelspec": {
   "display_name": "Python 3 (ipykernel)",
   "language": "python",
   "name": "python3"
  },
  "language_info": {
   "codemirror_mode": {
    "name": "ipython",
    "version": 3
   },
   "file_extension": ".py",
   "mimetype": "text/x-python",
   "name": "python",
   "nbconvert_exporter": "python",
   "pygments_lexer": "ipython3",
   "version": "3.10.12"
  }
 },
 "nbformat": 4,
 "nbformat_minor": 5
}
