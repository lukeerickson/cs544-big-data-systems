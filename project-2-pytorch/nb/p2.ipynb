{
 "cells": [
  {
   "cell_type": "code",
   "execution_count": 1,
   "id": "4fb06bb8-1be1-4ea1-b0f8-670ea294e258",
   "metadata": {},
   "outputs": [],
   "source": [
    "# import statements\n",
    "import torch\n",
    "from sys import float_info\n",
    "import sys\n",
    "import pandas as pd"
   ]
  },
  {
   "cell_type": "code",
   "execution_count": 2,
   "id": "5ae0d81b-e9aa-488a-b7a9-367d852daf5b",
   "metadata": {},
   "outputs": [],
   "source": [
    "dataset1 = pd.read_csv('train.csv')\n",
    "dataset2 = pd.read_csv('test.csv')\n",
    "\n",
    "np1 = dataset1.values\n",
    "train = torch.from_numpy(np1)\n",
    "\n",
    "np2 = dataset2.values\n",
    "test = torch.from_numpy(np2)"
   ]
  },
  {
   "cell_type": "code",
   "execution_count": 3,
   "id": "31b3cf53-2cd4-426a-b484-4f20a500fbfa",
   "metadata": {},
   "outputs": [],
   "source": [
    "trainX = train[...,0:train.size(dim=1)-1]\n",
    "trainY = train[...,train.size(dim=1)-1]\n",
    "testX = test[...,0:test.size(dim=1)-1]\n",
    "testY = test[...,test.size(dim=1)-1]\n",
    "\n",
    "trainX = trainX.to(torch.float64)\n",
    "trainY = trainY.to(torch.float64)\n",
    "testX = testX.to(torch.float64)\n",
    "testY = testY.to(torch.float64)\n",
    "\n",
    "trainY = trainY.unsqueeze(1)\n",
    "testY = testY.unsqueeze(1)"
   ]
  },
  {
   "cell_type": "code",
   "execution_count": 4,
   "id": "1bc94ee6-f29f-456b-bd26-8a7ac813741d",
   "metadata": {},
   "outputs": [
    {
     "data": {
      "text/plain": [
       "10"
      ]
     },
     "execution_count": 4,
     "metadata": {},
     "output_type": "execute_result"
    }
   ],
   "source": [
    "trainX.size()\n",
    "trainX.size(dim=0)\n",
    "trainX.size(dim=1)"
   ]
  },
  {
   "cell_type": "code",
   "execution_count": 5,
   "id": "1d2c982d-fc1e-4f4e-a540-a5420a4c5c89",
   "metadata": {},
   "outputs": [
    {
     "data": {
      "text/plain": [
       "83520"
      ]
     },
     "execution_count": 5,
     "metadata": {},
     "output_type": "execute_result"
    }
   ],
   "source": [
    "#q1\n",
    "trainX.size(dim=0) * trainX.size(dim=1) * 8"
   ]
  },
  {
   "cell_type": "code",
   "execution_count": 6,
   "id": "3643d5af-b233-4ba7-a9a6-2c8798dee0af",
   "metadata": {},
   "outputs": [
    {
     "data": {
      "text/plain": [
       "0.0"
      ]
     },
     "execution_count": 6,
     "metadata": {},
     "output_type": "execute_result"
    }
   ],
   "source": [
    "#q2\n",
    "trainX16 = trainX.to(torch.float16)\n",
    "trainX16 = trainX16.to(torch.float64)\n",
    "difference = trainX - trainX16\n",
    "difference = torch.max(difference)\n",
    "x = difference.clone().detach()\n",
    "\n",
    "x.item()"
   ]
  },
  {
   "cell_type": "code",
   "execution_count": 7,
   "id": "46369f9f-44a5-4058-af5b-1e9ff8a017cb",
   "metadata": {},
   "outputs": [
    {
     "data": {
      "text/plain": [
       "False"
      ]
     },
     "execution_count": 7,
     "metadata": {},
     "output_type": "execute_result"
    }
   ],
   "source": [
    "#q3\n",
    "torch.cuda.is_available()"
   ]
  },
  {
   "cell_type": "code",
   "execution_count": 8,
   "id": "54899687-7ab9-4929-925a-c63d3d7ae420",
   "metadata": {},
   "outputs": [
    {
     "data": {
      "text/plain": [
       "tensor([[0.0040],\n",
       "        [0.0040],\n",
       "        [0.0040],\n",
       "        [0.0040],\n",
       "        [0.0040],\n",
       "        [0.0040],\n",
       "        [0.0300],\n",
       "        [0.0300],\n",
       "        [0.0300],\n",
       "        [0.0300]], dtype=torch.float64)"
      ]
     },
     "execution_count": 8,
     "metadata": {},
     "output_type": "execute_result"
    }
   ],
   "source": [
    "coef = torch.tensor([\n",
    "        [0.0040],\n",
    "        [0.0040],\n",
    "        [0.0040],\n",
    "        [0.0040],\n",
    "        [0.0040],\n",
    "        [0.0040], # POS_50_59_CP\n",
    "        [0.0300], # POS_60_69_CP\n",
    "        [0.0300],\n",
    "        [0.0300],\n",
    "        [0.0300]\n",
    "], dtype=trainX.dtype)\n",
    "coef"
   ]
  },
  {
   "cell_type": "code",
   "execution_count": 9,
   "id": "1293f352-3789-4dc2-beb9-d7845686ccb6",
   "metadata": {},
   "outputs": [
    {
     "data": {
      "text/plain": [
       "9.844"
      ]
     },
     "execution_count": 9,
     "metadata": {},
     "output_type": "execute_result"
    }
   ],
   "source": [
    "#q4\n",
    "firstCensus = testX[0] @ coef\n",
    "firstCensus.item()"
   ]
  },
  {
   "cell_type": "code",
   "execution_count": 10,
   "id": "47989642-128a-434c-beb4-82bfa3b638a4",
   "metadata": {},
   "outputs": [
    {
     "data": {
      "text/plain": [
       "12.073632183908048"
      ]
     },
     "execution_count": 10,
     "metadata": {},
     "output_type": "execute_result"
    }
   ],
   "source": [
    "#q5\n",
    "mult = testX @ coef\n",
    "torch.mean(mult).item()"
   ]
  },
  {
   "cell_type": "code",
   "execution_count": 11,
   "id": "bdf1a579-8655-4bed-aaf1-b9c2e2cc2333",
   "metadata": {},
   "outputs": [
    {
     "data": {
      "text/plain": [
       "19.0"
      ]
     },
     "execution_count": 11,
     "metadata": {},
     "output_type": "execute_result"
    }
   ],
   "source": [
    "#q6\n",
    "x = torch.tensor(0.0)\n",
    "def f(x):\n",
    "    return x ** 2 - 8*x + 19\n",
    "y = f(x)\n",
    "float(y)"
   ]
  },
  {
   "cell_type": "code",
   "execution_count": 12,
   "id": "053b276b-b05e-46e9-81a8-626a413ecc84",
   "metadata": {},
   "outputs": [
    {
     "data": {
      "text/plain": [
       "3.999999523162842"
      ]
     },
     "execution_count": 12,
     "metadata": {},
     "output_type": "execute_result"
    }
   ],
   "source": [
    "#q7\n",
    "# want to find x value that minimizes y\n",
    "x = torch.tensor(0.0, requires_grad=True)\n",
    "optimizer = torch.optim.SGD([x], lr = 0.1)\n",
    "\n",
    "for epoch in range(100):\n",
    "    y = f(x)\n",
    "    y.backward()\n",
    "    optimizer.step()\n",
    "    optimizer.zero_grad()\n",
    "float(x)"
   ]
  },
  {
   "cell_type": "code",
   "execution_count": 13,
   "id": "cfa3f0f3-8fa5-4f29-ab0c-35c1e521c6ba",
   "metadata": {},
   "outputs": [],
   "source": [
    "coef = torch.zeros(10, 1, dtype=float)\n",
    "zeroes = trainX @ coef"
   ]
  },
  {
   "cell_type": "code",
   "execution_count": 14,
   "id": "6ca05f44-73f7-40b7-9464-a30c6d817cda",
   "metadata": {},
   "outputs": [
    {
     "data": {
      "text/plain": [
       "197.8007662835249"
      ]
     },
     "execution_count": 14,
     "metadata": {},
     "output_type": "execute_result"
    }
   ],
   "source": [
    "#q8\n",
    "mse = ((zeroes - trainY)**2).mean()\n",
    "float(mse)"
   ]
  },
  {
   "cell_type": "code",
   "execution_count": 15,
   "id": "45d63925-41a0-421b-92c5-f50407743bab",
   "metadata": {},
   "outputs": [],
   "source": [
    "coef2 = torch.zeros((10, 1), dtype=torch.float64, requires_grad=True)\n",
    "loss_fn = torch.nn.MSELoss()\n",
    "\n",
    "torch.manual_seed(544)\n",
    "ds = torch.utils.data.TensorDataset(trainX, trainY)\n",
    "dl = torch.utils.data.DataLoader(ds, batch_size=50, shuffle=True)\n",
    "optimizer = torch.optim.SGD([coef2], lr=0.000002)\n",
    "\n",
    "for epoch in range(500):\n",
    "    for batchX, batchY in dl:\n",
    "        predictions = batchX @ coef2\n",
    "        loss = loss_fn(predictions, batchY)\n",
    "        loss.backward()   # computes gradient, and adds it to coef.grad\n",
    "        optimizer.step()\n",
    "        optimizer.zero_grad()"
   ]
  },
  {
   "cell_type": "code",
   "execution_count": 16,
   "id": "21f99d49-f96d-4a31-8077-89f7d559b5c7",
   "metadata": {},
   "outputs": [
    {
     "data": {
      "text/plain": [
       "26.8113940147193"
      ]
     },
     "execution_count": 16,
     "metadata": {},
     "output_type": "execute_result"
    }
   ],
   "source": [
    "#q9\n",
    "float(loss_fn(trainX @ coef2, trainY))"
   ]
  },
  {
   "cell_type": "code",
   "execution_count": 17,
   "id": "67e2c8ff-99c4-49f4-81af-f7e84318163f",
   "metadata": {},
   "outputs": [
    {
     "data": {
      "text/plain": [
       "29.05854692548551"
      ]
     },
     "execution_count": 17,
     "metadata": {},
     "output_type": "execute_result"
    }
   ],
   "source": [
    "#q10\n",
    "float(loss_fn(testX @ coef2, testY))"
   ]
  }
 ],
 "metadata": {
  "kernelspec": {
   "display_name": "Python 3 (ipykernel)",
   "language": "python",
   "name": "python3"
  },
  "language_info": {
   "codemirror_mode": {
    "name": "ipython",
    "version": 3
   },
   "file_extension": ".py",
   "mimetype": "text/x-python",
   "name": "python",
   "nbconvert_exporter": "python",
   "pygments_lexer": "ipython3",
   "version": "3.11.6"
  }
 },
 "nbformat": 4,
 "nbformat_minor": 5
}
